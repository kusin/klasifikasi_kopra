{
 "cells": [
  {
   "cell_type": "markdown",
   "id": "ec868dc5-4508-4307-bba4-798b5d819658",
   "metadata": {},
   "source": [
    "# Klasifikasi Jenis Kopra dengan Konsep Machine Learning dan Ensembel Learning"
   ]
  },
  {
   "cell_type": "markdown",
   "id": "37a9f5d3-c057-4fb7-be86-202793600ce0",
   "metadata": {
    "tags": []
   },
   "source": [
    "Kontribusi Riset\n",
    "- Pembagian data = 80% dan 20%, 90% dan 10%\n",
    "- Ektrasi Fitur = Warna, Bentuk, Tesktur\n",
    "- Metode Klasifikasi = KNN, SVM, DT, RF, NB, LR, LDA, QDA\n",
    "- Metode Ensambel Learning = Votting, Bagging, Stacking, AdaBoost"
   ]
  },
  {
   "cell_type": "code",
   "execution_count": 1,
   "id": "59a29316-548a-4989-ab67-18a627f5742a",
   "metadata": {},
   "outputs": [],
   "source": [
    "# library untuk manipulasi data\n",
    "import pandas as pd\n",
    "import numpy as np\n",
    "\n",
    "# library untuk visualisasi data\n",
    "import matplotlib.pyplot as plt\n",
    "import seaborn as sns\n",
    "\n",
    "# library untuk praproses data\n",
    "from sklearn.model_selection import train_test_split\n",
    "from sklearn.preprocessing import MinMaxScaler\n",
    "\n",
    "# library untuk model klasifikasi\n",
    "from sklearn.neighbors import KNeighborsClassifier\n",
    "from sklearn.svm import SVC, LinearSVC, NuSVC\n",
    "from sklearn.tree import DecisionTreeClassifier\n",
    "from sklearn.naive_bayes import GaussianNB, MultinomialNB\n",
    "from sklearn.linear_model import LogisticRegression\n",
    "from sklearn.discriminant_analysis import QuadraticDiscriminantAnalysis\n",
    "from sklearn.discriminant_analysis import LinearDiscriminantAnalysis\n",
    "\n",
    "# library untuk model ensambel\n",
    "from sklearn.ensemble import VotingClassifier\n",
    "from sklearn.ensemble import BaggingClassifier\n",
    "from sklearn.ensemble import AdaBoostClassifier\n",
    "from sklearn.ensemble import GradientBoostingClassifier\n",
    "from sklearn.ensemble import StackingClassifier\n",
    "\n",
    "# library untuk evaluasi model\n",
    "from sklearn.metrics import accuracy_score, precision_score, recall_score, f1_score\n",
    "from sklearn.metrics import classification_report, confusion_matrix"
   ]
  },
  {
   "cell_type": "markdown",
   "id": "b2adee8f-5db4-49ff-91fb-b5c5888f0c1d",
   "metadata": {
    "tags": []
   },
   "source": [
    "## 1. Akuisisi Data"
   ]
  },
  {
   "cell_type": "code",
   "execution_count": 2,
   "id": "40f24f52-2185-420b-af2e-911cb714453f",
   "metadata": {
    "tags": []
   },
   "outputs": [],
   "source": [
    "# load dataset\n",
    "dataset = pd.read_csv(\"dataset/ekstrasi-fitur-kopra-nonTelungkup.csv\")"
   ]
  },
  {
   "cell_type": "code",
   "execution_count": 3,
   "id": "8ab39c6d-909d-4847-8db2-8939d25381e1",
   "metadata": {
    "tags": []
   },
   "outputs": [
    {
     "name": "stdout",
     "output_type": "stream",
     "text": [
      "<class 'pandas.core.frame.DataFrame'>\n",
      "RangeIndex: 1839 entries, 0 to 1838\n",
      "Data columns (total 16 columns):\n",
      " #   Column           Non-Null Count  Dtype  \n",
      "---  ------           --------------  -----  \n",
      " 0   Mean-R           1839 non-null   float64\n",
      " 1   Mean-G           1839 non-null   float64\n",
      " 2   Mean-B           1839 non-null   float64\n",
      " 3   Mean-H           1839 non-null   float64\n",
      " 4   Mean-V           1839 non-null   float64\n",
      " 5   Mean-S           1839 non-null   float64\n",
      " 6   Mean-Gray        1839 non-null   float64\n",
      " 7   Standar-Deviasi  1839 non-null   float64\n",
      " 8   Luas             1839 non-null   float64\n",
      " 9   Perimeter        1839 non-null   float64\n",
      " 10  Contrast         1839 non-null   float64\n",
      " 11  Dissimilarity    1839 non-null   float64\n",
      " 12  Homogeneity      1839 non-null   float64\n",
      " 13  Energy           1839 non-null   float64\n",
      " 14  Correlation      1839 non-null   float64\n",
      " 15  Jenis Kopra      1839 non-null   int64  \n",
      "dtypes: float64(15), int64(1)\n",
      "memory usage: 230.0 KB\n"
     ]
    }
   ],
   "source": [
    "dataset.info()"
   ]
  },
  {
   "cell_type": "code",
   "execution_count": 4,
   "id": "88c2b7e0-7c8f-4389-8a54-246cdcfcb1e3",
   "metadata": {
    "tags": []
   },
   "outputs": [
    {
     "data": {
      "text/html": [
       "<div>\n",
       "<style scoped>\n",
       "    .dataframe tbody tr th:only-of-type {\n",
       "        vertical-align: middle;\n",
       "    }\n",
       "\n",
       "    .dataframe tbody tr th {\n",
       "        vertical-align: top;\n",
       "    }\n",
       "\n",
       "    .dataframe thead th {\n",
       "        text-align: right;\n",
       "    }\n",
       "</style>\n",
       "<table border=\"1\" class=\"dataframe\">\n",
       "  <thead>\n",
       "    <tr style=\"text-align: right;\">\n",
       "      <th></th>\n",
       "      <th>Mean-R</th>\n",
       "      <th>Mean-G</th>\n",
       "      <th>Mean-B</th>\n",
       "      <th>Mean-H</th>\n",
       "      <th>Mean-V</th>\n",
       "      <th>Mean-S</th>\n",
       "      <th>Mean-Gray</th>\n",
       "      <th>Standar-Deviasi</th>\n",
       "      <th>Luas</th>\n",
       "      <th>Perimeter</th>\n",
       "      <th>Contrast</th>\n",
       "      <th>Dissimilarity</th>\n",
       "      <th>Homogeneity</th>\n",
       "      <th>Energy</th>\n",
       "      <th>Correlation</th>\n",
       "      <th>Jenis Kopra</th>\n",
       "    </tr>\n",
       "  </thead>\n",
       "  <tbody>\n",
       "    <tr>\n",
       "      <th>count</th>\n",
       "      <td>1839.000000</td>\n",
       "      <td>1839.000000</td>\n",
       "      <td>1839.000000</td>\n",
       "      <td>1839.000000</td>\n",
       "      <td>1839.000000</td>\n",
       "      <td>1839.000000</td>\n",
       "      <td>1839.000000</td>\n",
       "      <td>1839.000000</td>\n",
       "      <td>1839.000000</td>\n",
       "      <td>1839.000000</td>\n",
       "      <td>1839.000000</td>\n",
       "      <td>1839.000000</td>\n",
       "      <td>1839.000000</td>\n",
       "      <td>1839.000000</td>\n",
       "      <td>1839.000000</td>\n",
       "      <td>1839.000000</td>\n",
       "    </tr>\n",
       "    <tr>\n",
       "      <th>mean</th>\n",
       "      <td>81.020750</td>\n",
       "      <td>67.117666</td>\n",
       "      <td>50.377857</td>\n",
       "      <td>12.739430</td>\n",
       "      <td>81.093483</td>\n",
       "      <td>68.252834</td>\n",
       "      <td>69.369837</td>\n",
       "      <td>52.684988</td>\n",
       "      <td>8136.767809</td>\n",
       "      <td>701.574270</td>\n",
       "      <td>69.925258</td>\n",
       "      <td>4.203152</td>\n",
       "      <td>0.466596</td>\n",
       "      <td>0.259594</td>\n",
       "      <td>0.986388</td>\n",
       "      <td>2.000000</td>\n",
       "    </tr>\n",
       "    <tr>\n",
       "      <th>std</th>\n",
       "      <td>17.575378</td>\n",
       "      <td>17.593451</td>\n",
       "      <td>14.514701</td>\n",
       "      <td>6.930784</td>\n",
       "      <td>17.569546</td>\n",
       "      <td>17.446976</td>\n",
       "      <td>16.825835</td>\n",
       "      <td>9.524066</td>\n",
       "      <td>13011.715408</td>\n",
       "      <td>667.754673</td>\n",
       "      <td>34.695929</td>\n",
       "      <td>1.249612</td>\n",
       "      <td>0.056876</td>\n",
       "      <td>0.042660</td>\n",
       "      <td>0.008067</td>\n",
       "      <td>0.816719</td>\n",
       "    </tr>\n",
       "    <tr>\n",
       "      <th>min</th>\n",
       "      <td>30.556322</td>\n",
       "      <td>19.653977</td>\n",
       "      <td>15.734759</td>\n",
       "      <td>3.153138</td>\n",
       "      <td>30.572092</td>\n",
       "      <td>19.010904</td>\n",
       "      <td>22.464092</td>\n",
       "      <td>20.503420</td>\n",
       "      <td>0.000000</td>\n",
       "      <td>0.000000</td>\n",
       "      <td>21.938480</td>\n",
       "      <td>2.146624</td>\n",
       "      <td>0.307204</td>\n",
       "      <td>0.171859</td>\n",
       "      <td>0.920092</td>\n",
       "      <td>1.000000</td>\n",
       "    </tr>\n",
       "    <tr>\n",
       "      <th>25%</th>\n",
       "      <td>68.835589</td>\n",
       "      <td>54.415539</td>\n",
       "      <td>39.790509</td>\n",
       "      <td>9.300176</td>\n",
       "      <td>68.854501</td>\n",
       "      <td>56.029231</td>\n",
       "      <td>57.338926</td>\n",
       "      <td>46.351015</td>\n",
       "      <td>562.500000</td>\n",
       "      <td>230.450791</td>\n",
       "      <td>47.153494</td>\n",
       "      <td>3.302342</td>\n",
       "      <td>0.425960</td>\n",
       "      <td>0.233576</td>\n",
       "      <td>0.983497</td>\n",
       "      <td>1.000000</td>\n",
       "    </tr>\n",
       "    <tr>\n",
       "      <th>50%</th>\n",
       "      <td>80.388866</td>\n",
       "      <td>66.794438</td>\n",
       "      <td>50.359408</td>\n",
       "      <td>12.087998</td>\n",
       "      <td>80.399455</td>\n",
       "      <td>67.305323</td>\n",
       "      <td>68.924920</td>\n",
       "      <td>52.591468</td>\n",
       "      <td>2964.000000</td>\n",
       "      <td>598.641696</td>\n",
       "      <td>58.921316</td>\n",
       "      <td>3.889533</td>\n",
       "      <td>0.466074</td>\n",
       "      <td>0.250399</td>\n",
       "      <td>0.988635</td>\n",
       "      <td>2.000000</td>\n",
       "    </tr>\n",
       "    <tr>\n",
       "      <th>75%</th>\n",
       "      <td>93.768829</td>\n",
       "      <td>79.335187</td>\n",
       "      <td>59.820183</td>\n",
       "      <td>15.001382</td>\n",
       "      <td>93.801085</td>\n",
       "      <td>78.947500</td>\n",
       "      <td>80.964257</td>\n",
       "      <td>58.842228</td>\n",
       "      <td>10970.000000</td>\n",
       "      <td>921.962545</td>\n",
       "      <td>83.403973</td>\n",
       "      <td>4.854590</td>\n",
       "      <td>0.507364</td>\n",
       "      <td>0.271685</td>\n",
       "      <td>0.992103</td>\n",
       "      <td>3.000000</td>\n",
       "    </tr>\n",
       "    <tr>\n",
       "      <th>max</th>\n",
       "      <td>134.861606</td>\n",
       "      <td>121.998932</td>\n",
       "      <td>99.756737</td>\n",
       "      <td>100.330030</td>\n",
       "      <td>134.863778</td>\n",
       "      <td>128.910255</td>\n",
       "      <td>123.295228</td>\n",
       "      <td>90.835493</td>\n",
       "      <td>171997.000000</td>\n",
       "      <td>6054.448492</td>\n",
       "      <td>330.264746</td>\n",
       "      <td>10.858529</td>\n",
       "      <td>0.651113</td>\n",
       "      <td>0.552925</td>\n",
       "      <td>0.996380</td>\n",
       "      <td>3.000000</td>\n",
       "    </tr>\n",
       "  </tbody>\n",
       "</table>\n",
       "</div>"
      ],
      "text/plain": [
       "            Mean-R       Mean-G       Mean-B       Mean-H       Mean-V  \\\n",
       "count  1839.000000  1839.000000  1839.000000  1839.000000  1839.000000   \n",
       "mean     81.020750    67.117666    50.377857    12.739430    81.093483   \n",
       "std      17.575378    17.593451    14.514701     6.930784    17.569546   \n",
       "min      30.556322    19.653977    15.734759     3.153138    30.572092   \n",
       "25%      68.835589    54.415539    39.790509     9.300176    68.854501   \n",
       "50%      80.388866    66.794438    50.359408    12.087998    80.399455   \n",
       "75%      93.768829    79.335187    59.820183    15.001382    93.801085   \n",
       "max     134.861606   121.998932    99.756737   100.330030   134.863778   \n",
       "\n",
       "            Mean-S    Mean-Gray  Standar-Deviasi           Luas    Perimeter  \\\n",
       "count  1839.000000  1839.000000      1839.000000    1839.000000  1839.000000   \n",
       "mean     68.252834    69.369837        52.684988    8136.767809   701.574270   \n",
       "std      17.446976    16.825835         9.524066   13011.715408   667.754673   \n",
       "min      19.010904    22.464092        20.503420       0.000000     0.000000   \n",
       "25%      56.029231    57.338926        46.351015     562.500000   230.450791   \n",
       "50%      67.305323    68.924920        52.591468    2964.000000   598.641696   \n",
       "75%      78.947500    80.964257        58.842228   10970.000000   921.962545   \n",
       "max     128.910255   123.295228        90.835493  171997.000000  6054.448492   \n",
       "\n",
       "          Contrast  Dissimilarity  Homogeneity       Energy  Correlation  \\\n",
       "count  1839.000000    1839.000000  1839.000000  1839.000000  1839.000000   \n",
       "mean     69.925258       4.203152     0.466596     0.259594     0.986388   \n",
       "std      34.695929       1.249612     0.056876     0.042660     0.008067   \n",
       "min      21.938480       2.146624     0.307204     0.171859     0.920092   \n",
       "25%      47.153494       3.302342     0.425960     0.233576     0.983497   \n",
       "50%      58.921316       3.889533     0.466074     0.250399     0.988635   \n",
       "75%      83.403973       4.854590     0.507364     0.271685     0.992103   \n",
       "max     330.264746      10.858529     0.651113     0.552925     0.996380   \n",
       "\n",
       "       Jenis Kopra  \n",
       "count  1839.000000  \n",
       "mean      2.000000  \n",
       "std       0.816719  \n",
       "min       1.000000  \n",
       "25%       1.000000  \n",
       "50%       2.000000  \n",
       "75%       3.000000  \n",
       "max       3.000000  "
      ]
     },
     "execution_count": 4,
     "metadata": {},
     "output_type": "execute_result"
    }
   ],
   "source": [
    "dataset.describe()"
   ]
  },
  {
   "cell_type": "code",
   "execution_count": 5,
   "id": "2074dd64-a676-4ed9-a6de-f2caed08a6b6",
   "metadata": {
    "tags": []
   },
   "outputs": [
    {
     "data": {
      "text/html": [
       "<div>\n",
       "<style scoped>\n",
       "    .dataframe tbody tr th:only-of-type {\n",
       "        vertical-align: middle;\n",
       "    }\n",
       "\n",
       "    .dataframe tbody tr th {\n",
       "        vertical-align: top;\n",
       "    }\n",
       "\n",
       "    .dataframe thead th {\n",
       "        text-align: right;\n",
       "    }\n",
       "</style>\n",
       "<table border=\"1\" class=\"dataframe\">\n",
       "  <thead>\n",
       "    <tr style=\"text-align: right;\">\n",
       "      <th></th>\n",
       "      <th>Mean-R</th>\n",
       "      <th>Mean-G</th>\n",
       "      <th>Mean-B</th>\n",
       "      <th>Mean-H</th>\n",
       "      <th>Mean-V</th>\n",
       "      <th>Mean-S</th>\n",
       "      <th>Mean-Gray</th>\n",
       "      <th>Standar-Deviasi</th>\n",
       "      <th>Luas</th>\n",
       "      <th>Perimeter</th>\n",
       "      <th>Contrast</th>\n",
       "      <th>Dissimilarity</th>\n",
       "      <th>Homogeneity</th>\n",
       "      <th>Energy</th>\n",
       "      <th>Correlation</th>\n",
       "      <th>Jenis Kopra</th>\n",
       "    </tr>\n",
       "  </thead>\n",
       "  <tbody>\n",
       "    <tr>\n",
       "      <th>0</th>\n",
       "      <td>99.8</td>\n",
       "      <td>85.3</td>\n",
       "      <td>72.6</td>\n",
       "      <td>11.3</td>\n",
       "      <td>99.8</td>\n",
       "      <td>51.0</td>\n",
       "      <td>88.2</td>\n",
       "      <td>54.6</td>\n",
       "      <td>7933.5</td>\n",
       "      <td>2053.3</td>\n",
       "      <td>43.4</td>\n",
       "      <td>3.3</td>\n",
       "      <td>0.5</td>\n",
       "      <td>0.2</td>\n",
       "      <td>1.0</td>\n",
       "      <td>1</td>\n",
       "    </tr>\n",
       "    <tr>\n",
       "      <th>1</th>\n",
       "      <td>114.2</td>\n",
       "      <td>110.4</td>\n",
       "      <td>91.1</td>\n",
       "      <td>19.0</td>\n",
       "      <td>114.8</td>\n",
       "      <td>36.9</td>\n",
       "      <td>109.4</td>\n",
       "      <td>79.9</td>\n",
       "      <td>33489.0</td>\n",
       "      <td>1334.8</td>\n",
       "      <td>68.7</td>\n",
       "      <td>4.1</td>\n",
       "      <td>0.5</td>\n",
       "      <td>0.3</td>\n",
       "      <td>1.0</td>\n",
       "      <td>1</td>\n",
       "    </tr>\n",
       "    <tr>\n",
       "      <th>2</th>\n",
       "      <td>86.8</td>\n",
       "      <td>77.1</td>\n",
       "      <td>58.2</td>\n",
       "      <td>14.4</td>\n",
       "      <td>86.8</td>\n",
       "      <td>58.8</td>\n",
       "      <td>77.8</td>\n",
       "      <td>52.1</td>\n",
       "      <td>1958.5</td>\n",
       "      <td>573.9</td>\n",
       "      <td>37.7</td>\n",
       "      <td>2.9</td>\n",
       "      <td>0.5</td>\n",
       "      <td>0.2</td>\n",
       "      <td>1.0</td>\n",
       "      <td>1</td>\n",
       "    </tr>\n",
       "    <tr>\n",
       "      <th>3</th>\n",
       "      <td>80.4</td>\n",
       "      <td>71.2</td>\n",
       "      <td>55.9</td>\n",
       "      <td>12.9</td>\n",
       "      <td>80.4</td>\n",
       "      <td>52.6</td>\n",
       "      <td>72.2</td>\n",
       "      <td>52.3</td>\n",
       "      <td>2908.0</td>\n",
       "      <td>863.0</td>\n",
       "      <td>34.5</td>\n",
       "      <td>2.6</td>\n",
       "      <td>0.6</td>\n",
       "      <td>0.3</td>\n",
       "      <td>1.0</td>\n",
       "      <td>1</td>\n",
       "    </tr>\n",
       "    <tr>\n",
       "      <th>4</th>\n",
       "      <td>99.0</td>\n",
       "      <td>89.0</td>\n",
       "      <td>68.0</td>\n",
       "      <td>14.4</td>\n",
       "      <td>99.0</td>\n",
       "      <td>56.0</td>\n",
       "      <td>89.6</td>\n",
       "      <td>63.8</td>\n",
       "      <td>31867.5</td>\n",
       "      <td>706.1</td>\n",
       "      <td>51.5</td>\n",
       "      <td>3.1</td>\n",
       "      <td>0.5</td>\n",
       "      <td>0.3</td>\n",
       "      <td>1.0</td>\n",
       "      <td>1</td>\n",
       "    </tr>\n",
       "    <tr>\n",
       "      <th>...</th>\n",
       "      <td>...</td>\n",
       "      <td>...</td>\n",
       "      <td>...</td>\n",
       "      <td>...</td>\n",
       "      <td>...</td>\n",
       "      <td>...</td>\n",
       "      <td>...</td>\n",
       "      <td>...</td>\n",
       "      <td>...</td>\n",
       "      <td>...</td>\n",
       "      <td>...</td>\n",
       "      <td>...</td>\n",
       "      <td>...</td>\n",
       "      <td>...</td>\n",
       "      <td>...</td>\n",
       "      <td>...</td>\n",
       "    </tr>\n",
       "    <tr>\n",
       "      <th>1834</th>\n",
       "      <td>65.7</td>\n",
       "      <td>53.9</td>\n",
       "      <td>38.5</td>\n",
       "      <td>13.2</td>\n",
       "      <td>65.7</td>\n",
       "      <td>78.2</td>\n",
       "      <td>55.6</td>\n",
       "      <td>38.1</td>\n",
       "      <td>274.5</td>\n",
       "      <td>94.8</td>\n",
       "      <td>56.0</td>\n",
       "      <td>3.6</td>\n",
       "      <td>0.4</td>\n",
       "      <td>0.2</td>\n",
       "      <td>1.0</td>\n",
       "      <td>3</td>\n",
       "    </tr>\n",
       "    <tr>\n",
       "      <th>1835</th>\n",
       "      <td>56.1</td>\n",
       "      <td>52.1</td>\n",
       "      <td>39.0</td>\n",
       "      <td>20.3</td>\n",
       "      <td>57.7</td>\n",
       "      <td>63.3</td>\n",
       "      <td>51.8</td>\n",
       "      <td>35.7</td>\n",
       "      <td>513.0</td>\n",
       "      <td>153.8</td>\n",
       "      <td>88.0</td>\n",
       "      <td>5.2</td>\n",
       "      <td>0.4</td>\n",
       "      <td>0.2</td>\n",
       "      <td>1.0</td>\n",
       "      <td>3</td>\n",
       "    </tr>\n",
       "    <tr>\n",
       "      <th>1836</th>\n",
       "      <td>57.4</td>\n",
       "      <td>46.5</td>\n",
       "      <td>29.4</td>\n",
       "      <td>12.4</td>\n",
       "      <td>57.4</td>\n",
       "      <td>83.3</td>\n",
       "      <td>47.8</td>\n",
       "      <td>37.3</td>\n",
       "      <td>150.0</td>\n",
       "      <td>172.9</td>\n",
       "      <td>76.8</td>\n",
       "      <td>4.5</td>\n",
       "      <td>0.4</td>\n",
       "      <td>0.3</td>\n",
       "      <td>1.0</td>\n",
       "      <td>3</td>\n",
       "    </tr>\n",
       "    <tr>\n",
       "      <th>1837</th>\n",
       "      <td>66.6</td>\n",
       "      <td>58.9</td>\n",
       "      <td>41.1</td>\n",
       "      <td>15.0</td>\n",
       "      <td>66.6</td>\n",
       "      <td>68.8</td>\n",
       "      <td>59.2</td>\n",
       "      <td>41.0</td>\n",
       "      <td>342.0</td>\n",
       "      <td>171.1</td>\n",
       "      <td>68.5</td>\n",
       "      <td>4.4</td>\n",
       "      <td>0.4</td>\n",
       "      <td>0.2</td>\n",
       "      <td>1.0</td>\n",
       "      <td>3</td>\n",
       "    </tr>\n",
       "    <tr>\n",
       "      <th>1838</th>\n",
       "      <td>58.9</td>\n",
       "      <td>49.5</td>\n",
       "      <td>30.5</td>\n",
       "      <td>13.4</td>\n",
       "      <td>58.9</td>\n",
       "      <td>82.3</td>\n",
       "      <td>50.1</td>\n",
       "      <td>39.0</td>\n",
       "      <td>26.0</td>\n",
       "      <td>75.1</td>\n",
       "      <td>56.9</td>\n",
       "      <td>4.1</td>\n",
       "      <td>0.4</td>\n",
       "      <td>0.3</td>\n",
       "      <td>1.0</td>\n",
       "      <td>3</td>\n",
       "    </tr>\n",
       "  </tbody>\n",
       "</table>\n",
       "<p>1839 rows × 16 columns</p>\n",
       "</div>"
      ],
      "text/plain": [
       "      Mean-R  Mean-G  Mean-B  Mean-H  Mean-V  Mean-S  Mean-Gray  \\\n",
       "0       99.8    85.3    72.6    11.3    99.8    51.0       88.2   \n",
       "1      114.2   110.4    91.1    19.0   114.8    36.9      109.4   \n",
       "2       86.8    77.1    58.2    14.4    86.8    58.8       77.8   \n",
       "3       80.4    71.2    55.9    12.9    80.4    52.6       72.2   \n",
       "4       99.0    89.0    68.0    14.4    99.0    56.0       89.6   \n",
       "...      ...     ...     ...     ...     ...     ...        ...   \n",
       "1834    65.7    53.9    38.5    13.2    65.7    78.2       55.6   \n",
       "1835    56.1    52.1    39.0    20.3    57.7    63.3       51.8   \n",
       "1836    57.4    46.5    29.4    12.4    57.4    83.3       47.8   \n",
       "1837    66.6    58.9    41.1    15.0    66.6    68.8       59.2   \n",
       "1838    58.9    49.5    30.5    13.4    58.9    82.3       50.1   \n",
       "\n",
       "      Standar-Deviasi     Luas  Perimeter  Contrast  Dissimilarity  \\\n",
       "0                54.6   7933.5     2053.3      43.4            3.3   \n",
       "1                79.9  33489.0     1334.8      68.7            4.1   \n",
       "2                52.1   1958.5      573.9      37.7            2.9   \n",
       "3                52.3   2908.0      863.0      34.5            2.6   \n",
       "4                63.8  31867.5      706.1      51.5            3.1   \n",
       "...               ...      ...        ...       ...            ...   \n",
       "1834             38.1    274.5       94.8      56.0            3.6   \n",
       "1835             35.7    513.0      153.8      88.0            5.2   \n",
       "1836             37.3    150.0      172.9      76.8            4.5   \n",
       "1837             41.0    342.0      171.1      68.5            4.4   \n",
       "1838             39.0     26.0       75.1      56.9            4.1   \n",
       "\n",
       "      Homogeneity  Energy  Correlation  Jenis Kopra  \n",
       "0             0.5     0.2          1.0            1  \n",
       "1             0.5     0.3          1.0            1  \n",
       "2             0.5     0.2          1.0            1  \n",
       "3             0.6     0.3          1.0            1  \n",
       "4             0.5     0.3          1.0            1  \n",
       "...           ...     ...          ...          ...  \n",
       "1834          0.4     0.2          1.0            3  \n",
       "1835          0.4     0.2          1.0            3  \n",
       "1836          0.4     0.3          1.0            3  \n",
       "1837          0.4     0.2          1.0            3  \n",
       "1838          0.4     0.3          1.0            3  \n",
       "\n",
       "[1839 rows x 16 columns]"
      ]
     },
     "execution_count": 5,
     "metadata": {},
     "output_type": "execute_result"
    }
   ],
   "source": [
    "np.round(dataset, 1)"
   ]
  },
  {
   "cell_type": "markdown",
   "id": "bfec4e08-5e4e-43e7-a676-b6f9c340c604",
   "metadata": {
    "tags": []
   },
   "source": [
    "## 2. Eksplorasi Data Analisis"
   ]
  },
  {
   "cell_type": "code",
   "execution_count": 6,
   "id": "88589a8c",
   "metadata": {},
   "outputs": [
    {
     "data": {
      "text/html": [
       "<div>\n",
       "<style scoped>\n",
       "    .dataframe tbody tr th:only-of-type {\n",
       "        vertical-align: middle;\n",
       "    }\n",
       "\n",
       "    .dataframe tbody tr th {\n",
       "        vertical-align: top;\n",
       "    }\n",
       "\n",
       "    .dataframe thead th {\n",
       "        text-align: right;\n",
       "    }\n",
       "</style>\n",
       "<table border=\"1\" class=\"dataframe\">\n",
       "  <thead>\n",
       "    <tr style=\"text-align: right;\">\n",
       "      <th></th>\n",
       "      <th>Mean-R</th>\n",
       "      <th>Mean-G</th>\n",
       "      <th>Mean-B</th>\n",
       "      <th>Mean-H</th>\n",
       "      <th>Mean-V</th>\n",
       "      <th>Mean-S</th>\n",
       "      <th>Mean-Gray</th>\n",
       "      <th>Standar-Deviasi</th>\n",
       "      <th>Luas</th>\n",
       "      <th>Perimeter</th>\n",
       "      <th>Contrast</th>\n",
       "      <th>Dissimilarity</th>\n",
       "      <th>Homogeneity</th>\n",
       "      <th>Energy</th>\n",
       "      <th>Correlation</th>\n",
       "      <th>Jenis Kopra</th>\n",
       "    </tr>\n",
       "  </thead>\n",
       "  <tbody>\n",
       "    <tr>\n",
       "      <th>Mean-R</th>\n",
       "      <td>1.00</td>\n",
       "      <td>0.92</td>\n",
       "      <td>0.84</td>\n",
       "      <td>0.05</td>\n",
       "      <td>1.00</td>\n",
       "      <td>-0.06</td>\n",
       "      <td>0.96</td>\n",
       "      <td>0.89</td>\n",
       "      <td>0.65</td>\n",
       "      <td>0.53</td>\n",
       "      <td>0.08</td>\n",
       "      <td>-0.02</td>\n",
       "      <td>-0.01</td>\n",
       "      <td>-0.44</td>\n",
       "      <td>0.51</td>\n",
       "      <td>-0.50</td>\n",
       "    </tr>\n",
       "    <tr>\n",
       "      <th>Mean-G</th>\n",
       "      <td>0.92</td>\n",
       "      <td>1.00</td>\n",
       "      <td>0.93</td>\n",
       "      <td>0.23</td>\n",
       "      <td>0.92</td>\n",
       "      <td>-0.33</td>\n",
       "      <td>0.99</td>\n",
       "      <td>0.86</td>\n",
       "      <td>0.66</td>\n",
       "      <td>0.52</td>\n",
       "      <td>0.03</td>\n",
       "      <td>-0.05</td>\n",
       "      <td>-0.00</td>\n",
       "      <td>-0.44</td>\n",
       "      <td>0.53</td>\n",
       "      <td>-0.52</td>\n",
       "    </tr>\n",
       "    <tr>\n",
       "      <th>Mean-B</th>\n",
       "      <td>0.84</td>\n",
       "      <td>0.93</td>\n",
       "      <td>1.00</td>\n",
       "      <td>0.24</td>\n",
       "      <td>0.84</td>\n",
       "      <td>-0.57</td>\n",
       "      <td>0.93</td>\n",
       "      <td>0.80</td>\n",
       "      <td>0.56</td>\n",
       "      <td>0.40</td>\n",
       "      <td>-0.12</td>\n",
       "      <td>-0.20</td>\n",
       "      <td>0.11</td>\n",
       "      <td>-0.44</td>\n",
       "      <td>0.61</td>\n",
       "      <td>-0.59</td>\n",
       "    </tr>\n",
       "    <tr>\n",
       "      <th>Mean-H</th>\n",
       "      <td>0.05</td>\n",
       "      <td>0.23</td>\n",
       "      <td>0.24</td>\n",
       "      <td>1.00</td>\n",
       "      <td>0.06</td>\n",
       "      <td>-0.30</td>\n",
       "      <td>0.18</td>\n",
       "      <td>0.06</td>\n",
       "      <td>0.12</td>\n",
       "      <td>0.09</td>\n",
       "      <td>0.03</td>\n",
       "      <td>0.04</td>\n",
       "      <td>-0.09</td>\n",
       "      <td>-0.18</td>\n",
       "      <td>0.02</td>\n",
       "      <td>-0.07</td>\n",
       "    </tr>\n",
       "    <tr>\n",
       "      <th>Mean-V</th>\n",
       "      <td>1.00</td>\n",
       "      <td>0.92</td>\n",
       "      <td>0.84</td>\n",
       "      <td>0.06</td>\n",
       "      <td>1.00</td>\n",
       "      <td>-0.06</td>\n",
       "      <td>0.96</td>\n",
       "      <td>0.89</td>\n",
       "      <td>0.65</td>\n",
       "      <td>0.54</td>\n",
       "      <td>0.08</td>\n",
       "      <td>-0.02</td>\n",
       "      <td>-0.01</td>\n",
       "      <td>-0.44</td>\n",
       "      <td>0.51</td>\n",
       "      <td>-0.50</td>\n",
       "    </tr>\n",
       "    <tr>\n",
       "      <th>Mean-S</th>\n",
       "      <td>-0.06</td>\n",
       "      <td>-0.33</td>\n",
       "      <td>-0.57</td>\n",
       "      <td>-0.30</td>\n",
       "      <td>-0.06</td>\n",
       "      <td>1.00</td>\n",
       "      <td>-0.28</td>\n",
       "      <td>-0.19</td>\n",
       "      <td>-0.08</td>\n",
       "      <td>0.04</td>\n",
       "      <td>0.36</td>\n",
       "      <td>0.38</td>\n",
       "      <td>-0.34</td>\n",
       "      <td>-0.02</td>\n",
       "      <td>-0.43</td>\n",
       "      <td>0.36</td>\n",
       "    </tr>\n",
       "    <tr>\n",
       "      <th>Mean-Gray</th>\n",
       "      <td>0.96</td>\n",
       "      <td>0.99</td>\n",
       "      <td>0.93</td>\n",
       "      <td>0.18</td>\n",
       "      <td>0.96</td>\n",
       "      <td>-0.28</td>\n",
       "      <td>1.00</td>\n",
       "      <td>0.89</td>\n",
       "      <td>0.66</td>\n",
       "      <td>0.53</td>\n",
       "      <td>0.03</td>\n",
       "      <td>-0.06</td>\n",
       "      <td>0.01</td>\n",
       "      <td>-0.45</td>\n",
       "      <td>0.55</td>\n",
       "      <td>-0.53</td>\n",
       "    </tr>\n",
       "    <tr>\n",
       "      <th>Standar-Deviasi</th>\n",
       "      <td>0.89</td>\n",
       "      <td>0.86</td>\n",
       "      <td>0.80</td>\n",
       "      <td>0.06</td>\n",
       "      <td>0.89</td>\n",
       "      <td>-0.19</td>\n",
       "      <td>0.89</td>\n",
       "      <td>1.00</td>\n",
       "      <td>0.66</td>\n",
       "      <td>0.56</td>\n",
       "      <td>0.18</td>\n",
       "      <td>0.06</td>\n",
       "      <td>0.02</td>\n",
       "      <td>-0.13</td>\n",
       "      <td>0.51</td>\n",
       "      <td>-0.31</td>\n",
       "    </tr>\n",
       "    <tr>\n",
       "      <th>Luas</th>\n",
       "      <td>0.65</td>\n",
       "      <td>0.66</td>\n",
       "      <td>0.56</td>\n",
       "      <td>0.12</td>\n",
       "      <td>0.65</td>\n",
       "      <td>-0.08</td>\n",
       "      <td>0.66</td>\n",
       "      <td>0.66</td>\n",
       "      <td>1.00</td>\n",
       "      <td>0.59</td>\n",
       "      <td>0.21</td>\n",
       "      <td>0.14</td>\n",
       "      <td>-0.07</td>\n",
       "      <td>-0.13</td>\n",
       "      <td>0.24</td>\n",
       "      <td>-0.14</td>\n",
       "    </tr>\n",
       "    <tr>\n",
       "      <th>Perimeter</th>\n",
       "      <td>0.53</td>\n",
       "      <td>0.52</td>\n",
       "      <td>0.40</td>\n",
       "      <td>0.09</td>\n",
       "      <td>0.54</td>\n",
       "      <td>0.04</td>\n",
       "      <td>0.53</td>\n",
       "      <td>0.56</td>\n",
       "      <td>0.59</td>\n",
       "      <td>1.00</td>\n",
       "      <td>0.37</td>\n",
       "      <td>0.31</td>\n",
       "      <td>-0.20</td>\n",
       "      <td>-0.11</td>\n",
       "      <td>0.13</td>\n",
       "      <td>-0.04</td>\n",
       "    </tr>\n",
       "    <tr>\n",
       "      <th>Contrast</th>\n",
       "      <td>0.08</td>\n",
       "      <td>0.03</td>\n",
       "      <td>-0.12</td>\n",
       "      <td>0.03</td>\n",
       "      <td>0.08</td>\n",
       "      <td>0.36</td>\n",
       "      <td>0.03</td>\n",
       "      <td>0.18</td>\n",
       "      <td>0.21</td>\n",
       "      <td>0.37</td>\n",
       "      <td>1.00</td>\n",
       "      <td>0.96</td>\n",
       "      <td>-0.67</td>\n",
       "      <td>0.08</td>\n",
       "      <td>-0.69</td>\n",
       "      <td>0.54</td>\n",
       "    </tr>\n",
       "    <tr>\n",
       "      <th>Dissimilarity</th>\n",
       "      <td>-0.02</td>\n",
       "      <td>-0.05</td>\n",
       "      <td>-0.20</td>\n",
       "      <td>0.04</td>\n",
       "      <td>-0.02</td>\n",
       "      <td>0.38</td>\n",
       "      <td>-0.06</td>\n",
       "      <td>0.06</td>\n",
       "      <td>0.14</td>\n",
       "      <td>0.31</td>\n",
       "      <td>0.96</td>\n",
       "      <td>1.00</td>\n",
       "      <td>-0.82</td>\n",
       "      <td>0.05</td>\n",
       "      <td>-0.73</td>\n",
       "      <td>0.63</td>\n",
       "    </tr>\n",
       "    <tr>\n",
       "      <th>Homogeneity</th>\n",
       "      <td>-0.01</td>\n",
       "      <td>-0.00</td>\n",
       "      <td>0.11</td>\n",
       "      <td>-0.09</td>\n",
       "      <td>-0.01</td>\n",
       "      <td>-0.34</td>\n",
       "      <td>0.01</td>\n",
       "      <td>0.02</td>\n",
       "      <td>-0.07</td>\n",
       "      <td>-0.20</td>\n",
       "      <td>-0.67</td>\n",
       "      <td>-0.82</td>\n",
       "      <td>1.00</td>\n",
       "      <td>0.32</td>\n",
       "      <td>0.54</td>\n",
       "      <td>-0.53</td>\n",
       "    </tr>\n",
       "    <tr>\n",
       "      <th>Energy</th>\n",
       "      <td>-0.44</td>\n",
       "      <td>-0.44</td>\n",
       "      <td>-0.44</td>\n",
       "      <td>-0.18</td>\n",
       "      <td>-0.44</td>\n",
       "      <td>-0.02</td>\n",
       "      <td>-0.45</td>\n",
       "      <td>-0.13</td>\n",
       "      <td>-0.13</td>\n",
       "      <td>-0.11</td>\n",
       "      <td>0.08</td>\n",
       "      <td>0.05</td>\n",
       "      <td>0.32</td>\n",
       "      <td>1.00</td>\n",
       "      <td>-0.17</td>\n",
       "      <td>0.37</td>\n",
       "    </tr>\n",
       "    <tr>\n",
       "      <th>Correlation</th>\n",
       "      <td>0.51</td>\n",
       "      <td>0.53</td>\n",
       "      <td>0.61</td>\n",
       "      <td>0.02</td>\n",
       "      <td>0.51</td>\n",
       "      <td>-0.43</td>\n",
       "      <td>0.55</td>\n",
       "      <td>0.51</td>\n",
       "      <td>0.24</td>\n",
       "      <td>0.13</td>\n",
       "      <td>-0.69</td>\n",
       "      <td>-0.73</td>\n",
       "      <td>0.54</td>\n",
       "      <td>-0.17</td>\n",
       "      <td>1.00</td>\n",
       "      <td>-0.63</td>\n",
       "    </tr>\n",
       "    <tr>\n",
       "      <th>Jenis Kopra</th>\n",
       "      <td>-0.50</td>\n",
       "      <td>-0.52</td>\n",
       "      <td>-0.59</td>\n",
       "      <td>-0.07</td>\n",
       "      <td>-0.50</td>\n",
       "      <td>0.36</td>\n",
       "      <td>-0.53</td>\n",
       "      <td>-0.31</td>\n",
       "      <td>-0.14</td>\n",
       "      <td>-0.04</td>\n",
       "      <td>0.54</td>\n",
       "      <td>0.63</td>\n",
       "      <td>-0.53</td>\n",
       "      <td>0.37</td>\n",
       "      <td>-0.63</td>\n",
       "      <td>1.00</td>\n",
       "    </tr>\n",
       "  </tbody>\n",
       "</table>\n",
       "</div>"
      ],
      "text/plain": [
       "                 Mean-R  Mean-G  Mean-B  Mean-H  Mean-V  Mean-S  Mean-Gray  \\\n",
       "Mean-R             1.00    0.92    0.84    0.05    1.00   -0.06       0.96   \n",
       "Mean-G             0.92    1.00    0.93    0.23    0.92   -0.33       0.99   \n",
       "Mean-B             0.84    0.93    1.00    0.24    0.84   -0.57       0.93   \n",
       "Mean-H             0.05    0.23    0.24    1.00    0.06   -0.30       0.18   \n",
       "Mean-V             1.00    0.92    0.84    0.06    1.00   -0.06       0.96   \n",
       "Mean-S            -0.06   -0.33   -0.57   -0.30   -0.06    1.00      -0.28   \n",
       "Mean-Gray          0.96    0.99    0.93    0.18    0.96   -0.28       1.00   \n",
       "Standar-Deviasi    0.89    0.86    0.80    0.06    0.89   -0.19       0.89   \n",
       "Luas               0.65    0.66    0.56    0.12    0.65   -0.08       0.66   \n",
       "Perimeter          0.53    0.52    0.40    0.09    0.54    0.04       0.53   \n",
       "Contrast           0.08    0.03   -0.12    0.03    0.08    0.36       0.03   \n",
       "Dissimilarity     -0.02   -0.05   -0.20    0.04   -0.02    0.38      -0.06   \n",
       "Homogeneity       -0.01   -0.00    0.11   -0.09   -0.01   -0.34       0.01   \n",
       "Energy            -0.44   -0.44   -0.44   -0.18   -0.44   -0.02      -0.45   \n",
       "Correlation        0.51    0.53    0.61    0.02    0.51   -0.43       0.55   \n",
       "Jenis Kopra       -0.50   -0.52   -0.59   -0.07   -0.50    0.36      -0.53   \n",
       "\n",
       "                 Standar-Deviasi  Luas  Perimeter  Contrast  Dissimilarity  \\\n",
       "Mean-R                      0.89  0.65       0.53      0.08          -0.02   \n",
       "Mean-G                      0.86  0.66       0.52      0.03          -0.05   \n",
       "Mean-B                      0.80  0.56       0.40     -0.12          -0.20   \n",
       "Mean-H                      0.06  0.12       0.09      0.03           0.04   \n",
       "Mean-V                      0.89  0.65       0.54      0.08          -0.02   \n",
       "Mean-S                     -0.19 -0.08       0.04      0.36           0.38   \n",
       "Mean-Gray                   0.89  0.66       0.53      0.03          -0.06   \n",
       "Standar-Deviasi             1.00  0.66       0.56      0.18           0.06   \n",
       "Luas                        0.66  1.00       0.59      0.21           0.14   \n",
       "Perimeter                   0.56  0.59       1.00      0.37           0.31   \n",
       "Contrast                    0.18  0.21       0.37      1.00           0.96   \n",
       "Dissimilarity               0.06  0.14       0.31      0.96           1.00   \n",
       "Homogeneity                 0.02 -0.07      -0.20     -0.67          -0.82   \n",
       "Energy                     -0.13 -0.13      -0.11      0.08           0.05   \n",
       "Correlation                 0.51  0.24       0.13     -0.69          -0.73   \n",
       "Jenis Kopra                -0.31 -0.14      -0.04      0.54           0.63   \n",
       "\n",
       "                 Homogeneity  Energy  Correlation  Jenis Kopra  \n",
       "Mean-R                 -0.01   -0.44         0.51        -0.50  \n",
       "Mean-G                 -0.00   -0.44         0.53        -0.52  \n",
       "Mean-B                  0.11   -0.44         0.61        -0.59  \n",
       "Mean-H                 -0.09   -0.18         0.02        -0.07  \n",
       "Mean-V                 -0.01   -0.44         0.51        -0.50  \n",
       "Mean-S                 -0.34   -0.02        -0.43         0.36  \n",
       "Mean-Gray               0.01   -0.45         0.55        -0.53  \n",
       "Standar-Deviasi         0.02   -0.13         0.51        -0.31  \n",
       "Luas                   -0.07   -0.13         0.24        -0.14  \n",
       "Perimeter              -0.20   -0.11         0.13        -0.04  \n",
       "Contrast               -0.67    0.08        -0.69         0.54  \n",
       "Dissimilarity          -0.82    0.05        -0.73         0.63  \n",
       "Homogeneity             1.00    0.32         0.54        -0.53  \n",
       "Energy                  0.32    1.00        -0.17         0.37  \n",
       "Correlation             0.54   -0.17         1.00        -0.63  \n",
       "Jenis Kopra            -0.53    0.37        -0.63         1.00  "
      ]
     },
     "execution_count": 6,
     "metadata": {},
     "output_type": "execute_result"
    }
   ],
   "source": [
    "np.round(dataset.corr(method=\"pearson\"), 2)"
   ]
  },
  {
   "cell_type": "code",
   "execution_count": 7,
   "id": "c6fa3a65-8e2f-4be5-aea2-ae6dc0f2257c",
   "metadata": {
    "tags": []
   },
   "outputs": [
    {
     "data": {
      "image/png": "[encoded data removed]",
      "text/plain": [
       "<Figure size 2000x1200 with 2 Axes>"
      ]
     },
     "metadata": {},
     "output_type": "display_data"
    }
   ],
   "source": [
    "# membuat perhitungan korelasi terlebih dahulu\n",
    "df_corr = dataset.corr(method=\"pearson\")\n",
    "\n",
    "# membuat frame heatmap\n",
    "fig,ax = plt.subplots(figsize=(20,12))\n",
    "\n",
    "# proses visual heatmap\n",
    "# => pilihan warna lain untuk visual heatmap (coolwarm, Blues, RdYlGn_r, viridis, YlGnBu)\n",
    "sns.heatmap(df_corr, cmap=\"RdYlGn_r\", vmax=1, vmin=-1, annot=True, linewidths=1, fmt='.3f', ax=ax)\n",
    "\n",
    "# membuat title atau judul\n",
    "plt.title(\"Heatmap Klasifikasi Jenis Kopra\", fontsize=16)\n",
    "\n",
    "# Menampilkan hasil visualisasi\n",
    "plt.show()"
   ]
  },
  {
   "cell_type": "markdown",
   "id": "54898697-baff-434d-bb3e-edda958dcb59",
   "metadata": {
    "tags": []
   },
   "source": [
    "## 3. Praproses Data"
   ]
  },
  {
   "cell_type": "markdown",
   "id": "f0fc944d-a24a-483c-9c90-200b3e1929f9",
   "metadata": {},
   "source": [
    "- Setting experiment"
   ]
  },
  {
   "cell_type": "code",
   "execution_count": 8,
   "id": "5013e755-cbba-4d96-839a-ab677d911ca4",
   "metadata": {},
   "outputs": [
    {
     "name": "stdout",
     "output_type": "stream",
     "text": [
      "Percobaan 7\n"
     ]
    }
   ],
   "source": [
    "# 1. skenario W\n",
    "# print(\"Percobaan 1\")\n",
    "# x = dataset.iloc[:,0:8].values\n",
    "\n",
    "# # 2. skenario B\n",
    "# print(\"Percobaan 2\")\n",
    "# x = dataset.iloc[:,8:10].values\n",
    "\n",
    "# # 3. skenario T\n",
    "# print(\"Percobaan 3\")\n",
    "# x = dataset.iloc[:,10:15].values\n",
    "\n",
    "# # 4. Skenario W dan B\n",
    "# print(\"Percobaan 4\")\n",
    "# x = dataset.iloc[:,0:10].values\n",
    "\n",
    "# # 5. Skenario W dan T\n",
    "# print(\"Percobaan 5\")\n",
    "# x = dataset.iloc[:,0:13].values\n",
    "\n",
    "# # 6. Skenario B dan T\n",
    "# print(\"Percobaan 6\")\n",
    "# x = dataset.iloc[:,8:15].values\n",
    "\n",
    "# 7. Skenario W,B,dan T\n",
    "print(\"Percobaan 7\")\n",
    "x = dataset.iloc[:,0:15].values\n",
    "\n",
    "# Taget, Jenis Kopra\n",
    "y = dataset.iloc[:,[-1]].values\n",
    "y = y.reshape(len(y))"
   ]
  },
  {
   "cell_type": "code",
   "execution_count": 9,
   "id": "4c3a50d9-2c16-4f64-9f4d-0ec7f8fd56b4",
   "metadata": {},
   "outputs": [
    {
     "data": {
      "text/plain": [
       "array([[9.9773500e+01, 8.5299300e+01, 7.2579300e+01, 1.1272000e+01,\n",
       "        9.9790600e+01, 5.1024400e+01, 8.8194400e+01, 5.4589300e+01,\n",
       "        7.9335000e+03, 2.0533048e+03, 4.3446600e+01, 3.3410000e+00,\n",
       "        4.8200000e-01, 2.2820000e-01, 9.9270000e-01],\n",
       "       [1.1416270e+02, 1.1042490e+02, 9.1145800e+01, 1.9004400e+01,\n",
       "        1.1482820e+02, 3.6871800e+01, 1.0935810e+02, 7.9939300e+01,\n",
       "        3.3489000e+04, 1.3348469e+03, 6.8707300e+01, 4.1415000e+00,\n",
       "        4.7370000e-01, 2.7630000e-01, 9.9460000e-01],\n",
       "       [8.6758700e+01, 7.7095800e+01, 5.8220200e+01, 1.4373900e+01,\n",
       "        8.6760400e+01, 5.8789900e+01, 7.7833500e+01, 5.2085100e+01,\n",
       "        1.9585000e+03, 5.7385490e+02, 3.7735000e+01, 2.9174000e+00,\n",
       "        5.2210000e-01, 2.3550000e-01, 9.9300000e-01],\n",
       "       [8.0397600e+01, 7.1179400e+01, 5.5914600e+01, 1.2919400e+01,\n",
       "        8.0399500e+01, 5.2578400e+01, 7.2236500e+01, 5.2309300e+01,\n",
       "        2.9080000e+03, 8.6297470e+02, 3.4472300e+01, 2.6061000e+00,\n",
       "        5.6490000e-01, 2.6390000e-01, 9.9370000e-01],\n",
       "       [9.8963500e+01, 8.9047000e+01, 6.8021700e+01, 1.4364200e+01,\n",
       "        9.8967400e+01, 5.6023600e+01, 8.9634500e+01, 6.3758400e+01,\n",
       "        3.1867500e+04, 7.0613920e+02, 5.1521900e+01, 3.0583000e+00,\n",
       "        5.4060000e-01, 2.5760000e-01, 9.9360000e-01]])"
      ]
     },
     "execution_count": 9,
     "metadata": {},
     "output_type": "execute_result"
    }
   ],
   "source": [
    "# feature\n",
    "np.round(x[:5],4)"
   ]
  },
  {
   "cell_type": "code",
   "execution_count": 10,
   "id": "a61e7796-4278-4ae3-a1b4-0ce4aed26d83",
   "metadata": {},
   "outputs": [
    {
     "data": {
      "text/plain": [
       "array([1, 1, 1, ..., 3, 3, 3], dtype=int64)"
      ]
     },
     "execution_count": 10,
     "metadata": {},
     "output_type": "execute_result"
    }
   ],
   "source": [
    "# label\n",
    "np.round(y[:-1])"
   ]
  },
  {
   "cell_type": "markdown",
   "id": "4f1e7239-234b-41ff-82c8-6efa70b84675",
   "metadata": {},
   "source": [
    "- Normalisasi MinMax"
   ]
  },
  {
   "cell_type": "code",
   "execution_count": 11,
   "id": "0ba2b298-d3e9-4a52-b4ee-c99e1977d648",
   "metadata": {},
   "outputs": [],
   "source": [
    "# normalize features\n",
    "scaler = MinMaxScaler()\n",
    "x = scaler.fit_transform(x)"
   ]
  },
  {
   "cell_type": "code",
   "execution_count": 12,
   "id": "9d1cdace-c31e-496f-8466-4c226a9ce0f9",
   "metadata": {},
   "outputs": [
    {
     "data": {
      "text/plain": [
       "array([[0.6636, 0.6414, 0.6765, 0.0835, 0.6637, 0.2913, 0.6519, 0.4846,\n",
       "        0.0461, 0.3391, 0.0698, 0.1371, 0.5084, 0.1479, 0.9514],\n",
       "       [0.8016, 0.8869, 0.8975, 0.1631, 0.8079, 0.1625, 0.8618, 0.8451,\n",
       "        0.1947, 0.2205, 0.1517, 0.229 , 0.484 , 0.2742, 0.9767],\n",
       "       [0.5388, 0.5613, 0.5056, 0.1155, 0.5388, 0.362 , 0.5491, 0.449 ,\n",
       "        0.0114, 0.0948, 0.0512, 0.0885, 0.625 , 0.1671, 0.9557],\n",
       "       [0.4778, 0.5034, 0.4782, 0.1005, 0.4778, 0.3054, 0.4936, 0.4522,\n",
       "        0.0169, 0.1425, 0.0407, 0.0527, 0.7493, 0.2417, 0.9645],\n",
       "       [0.6558, 0.678 , 0.6223, 0.1154, 0.6558, 0.3368, 0.6662, 0.615 ,\n",
       "        0.1853, 0.1166, 0.0959, 0.1046, 0.6785, 0.225 , 0.964 ]])"
      ]
     },
     "execution_count": 12,
     "metadata": {},
     "output_type": "execute_result"
    }
   ],
   "source": [
    "np.round(x[:5],4)"
   ]
  },
  {
   "cell_type": "markdown",
   "id": "4ea7d86c-94e9-4d24-ab6a-8b73a15541e7",
   "metadata": {},
   "source": [
    "- Split Data Testing dan Data Training"
   ]
  },
  {
   "cell_type": "code",
   "execution_count": 13,
   "id": "cb62c08d-f966-4bb4-b1d8-d68ddd2c7656",
   "metadata": {},
   "outputs": [],
   "source": [
    "x_train, x_test, y_train, y_test = train_test_split(x, y, test_size=0.1, train_size=0.9, random_state=0)"
   ]
  },
  {
   "cell_type": "code",
   "execution_count": 14,
   "id": "9a8bb284",
   "metadata": {},
   "outputs": [],
   "source": [
    "temp_x = pd.DataFrame(np.round(x_test,3))"
   ]
  },
  {
   "cell_type": "code",
   "execution_count": 15,
   "id": "dcb30dc0",
   "metadata": {},
   "outputs": [],
   "source": [
    "temp_y = pd.DataFrame(np.round(y_test,3))"
   ]
  },
  {
   "cell_type": "code",
   "execution_count": 16,
   "id": "fbf659bd",
   "metadata": {},
   "outputs": [],
   "source": [
    "temp = pd.concat([temp_x, temp_y], axis=1)"
   ]
  },
  {
   "cell_type": "code",
   "execution_count": 17,
   "id": "53d47215",
   "metadata": {},
   "outputs": [],
   "source": [
    "temp.to_csv(\"feature_scaling.csv\", index=False)"
   ]
  },
  {
   "cell_type": "markdown",
   "id": "2f774e46-b037-42ec-bd76-da5008cebff5",
   "metadata": {
    "tags": []
   },
   "source": [
    "## 4. Konsep Supervised Learning"
   ]
  },
  {
   "cell_type": "code",
   "execution_count": 18,
   "id": "98b119d7-dfc4-41ca-867d-f5d96da57c7a",
   "metadata": {},
   "outputs": [],
   "source": [
    "# 1. KNN\n",
    "knn = KNeighborsClassifier(n_neighbors=3, weights='uniform', p=1, metric='euclidean').fit(x_train,y_train).predict(x_test)\n",
    "\n",
    "# 2. SVM\n",
    "svm = SVC(kernel='rbf', random_state=1234).fit(x_train,y_train).predict(x_test)\n",
    "\n",
    "# 3. C45\n",
    "c45 = DecisionTreeClassifier(criterion=\"gini\", random_state=1234).fit(x_train,y_train).predict(x_test)\n",
    "\n",
    "# 4. NB\n",
    "nb = GaussianNB().fit(x_train,y_train).predict(x_test)\n",
    "\n",
    "# 5. LR\n",
    "lr = LogisticRegression(random_state=1234).fit(x_train, y_train).predict(x_test)\n",
    "\n",
    "# 6. LDA\n",
    "lda = LinearDiscriminantAnalysis().fit(x_train,y_train).predict(x_test)\n",
    "\n",
    "# 7. LDQ\n",
    "ldq = QuadraticDiscriminantAnalysis().fit(x_train,y_train).predict(x_test)"
   ]
  },
  {
   "cell_type": "code",
   "execution_count": 19,
   "id": "f3472ac1-3117-447c-93f6-1f3e0eee53cf",
   "metadata": {},
   "outputs": [],
   "source": [
    "hasil = pd.DataFrame({\n",
    "    \"K Nearest-Neighbor\": knn,\n",
    "    \"Suport Vector Machine\": svm,\n",
    "    \"Decision Tree\": c45,\n",
    "    \"Naive Bayes\": nb,\n",
    "    \"Logistic Regresi\": lr,\n",
    "    \"Linear Discriminant Analysis\": lda,\n",
    "    \"Quadratic Discriminant Analysis\": ldq,\n",
    "    \"Target\": y_test\n",
    "})"
   ]
  },
  {
   "cell_type": "code",
   "execution_count": 20,
   "id": "00cdc263-82ec-4977-81dc-ff9f6d70afd4",
   "metadata": {},
   "outputs": [
    {
     "name": "stdout",
     "output_type": "stream",
     "text": [
      "Supervised Learning\n",
      "------------------- \n",
      "\n",
      "K Nearest-Neighbor\n",
      "0.8424\n",
      "0.8409\n",
      "0.8365\n",
      "0.837\n",
      "------------------------- \n",
      "\n",
      "Suport Vector Machine\n",
      "0.8424\n",
      "0.8358\n",
      "0.836\n",
      "0.8359\n",
      "------------------------- \n",
      "\n",
      "Decision Tree\n",
      "0.7989\n",
      "0.7928\n",
      "0.7936\n",
      "0.7931\n",
      "------------------------- \n",
      "\n",
      "Naive Bayes\n",
      "0.7989\n",
      "0.7954\n",
      "0.7903\n",
      "0.7914\n",
      "------------------------- \n",
      "\n",
      "Logistic Regresi\n",
      "0.8207\n",
      "0.8129\n",
      "0.8139\n",
      "0.813\n",
      "------------------------- \n",
      "\n",
      "Linear Discriminant Analysis\n",
      "0.8043\n",
      "0.8032\n",
      "0.8001\n",
      "0.8008\n",
      "------------------------- \n",
      "\n",
      "Quadratic Discriminant Analysis\n",
      "0.8315\n",
      "0.8276\n",
      "0.8224\n",
      "0.8232\n",
      "------------------------- \n",
      "\n"
     ]
    }
   ],
   "source": [
    "print(\"Supervised Learning\")\n",
    "print(\"------------------- \\n\")\n",
    "for i in range(len(hasil.columns)-1):\n",
    "    print(hasil.columns[i])\n",
    "    print(np.round(accuracy_score(hasil[\"Target\"], hasil.iloc[:,i:i+1]), 4))\n",
    "    print(np.round(precision_score(hasil[\"Target\"], hasil.iloc[:,i:i+1], average=\"macro\"), 4))\n",
    "    print(np.round(recall_score(hasil[\"Target\"], hasil.iloc[:,i:i+1], average=\"macro\"), 4))\n",
    "    print(np.round(f1_score(hasil[\"Target\"], hasil.iloc[:,i:i+1], average=\"macro\"), 4))\n",
    "    print(\"------------------------- \\n\")"
   ]
  },
  {
   "cell_type": "code",
   "execution_count": 21,
   "id": "8198a8a3-c92a-4790-b106-45d877f1919d",
   "metadata": {},
   "outputs": [
    {
     "data": {
      "image/png": "[encoded data removed]",
      "text/plain": [
       "<Figure size 600x400 with 2 Axes>"
      ]
     },
     "metadata": {},
     "output_type": "display_data"
    },
    {
     "data": {
      "image/png": "[encoded data removed]",
      "text/plain": [
       "<Figure size 600x400 with 2 Axes>"
      ]
     },
     "metadata": {},
     "output_type": "display_data"
    },
    {
     "data": {
      "image/png": "[encoded data removed]",
      "text/plain": [
       "<Figure size 600x400 with 2 Axes>"
      ]
     },
     "metadata": {},
     "output_type": "display_data"
    },
    {
     "data": {
      "image/png": "[encoded data removed]",
      "text/plain": [
       "<Figure size 600x400 with 2 Axes>"
      ]
     },
     "metadata": {},
     "output_type": "display_data"
    },
    {
     "data": {
      "image/png": "[encoded data removed]",
      "text/plain": [
       "<Figure size 600x400 with 2 Axes>"
      ]
     },
     "metadata": {},
     "output_type": "display_data"
    },
    {
     "data": {
      "image/png": "[encoded data removed]",
      "text/plain": [
       "<Figure size 600x400 with 2 Axes>"
      ]
     },
     "metadata": {},
     "output_type": "display_data"
    },
    {
     "data": {
      "image/png": "[encoded data removed]",
      "text/plain": [
       "<Figure size 600x400 with 2 Axes>"
      ]
     },
     "metadata": {},
     "output_type": "display_data"
    }
   ],
   "source": [
    "for i in range(len(hasil.columns)-1):\n",
    "    fig,ax = plt.subplots(figsize=(6,4))\n",
    "    sns.heatmap(confusion_matrix(hasil[\"Target\"], hasil.iloc[:,i:i+1]),annot=True, annot_kws={\"size\": 13}, cmap=\"RdYlGn_r\")\n",
    "    #plt.title(hasil.columns[i], fontsize=12)\n",
    "    plt.show()"
   ]
  },
  {
   "cell_type": "markdown",
   "id": "f82653a9-1227-4d40-a0be-37e9b4c56780",
   "metadata": {
    "tags": []
   },
   "source": [
    "## 5. Ensambel Learning Classifier"
   ]
  },
  {
   "cell_type": "markdown",
   "id": "99e2c79f-d228-49ef-abed-49ea6117682e",
   "metadata": {
    "tags": []
   },
   "source": [
    "### 5.1 Multi Base Model"
   ]
  },
  {
   "cell_type": "code",
   "execution_count": 22,
   "id": "3ca3e144-0e70-42ab-bd77-71c3be9702b2",
   "metadata": {},
   "outputs": [],
   "source": [
    "# Algoritma supervised learning\n",
    "estimators = [\n",
    "    ('knn', KNeighborsClassifier(n_neighbors=3, weights='uniform', p=1, metric='euclidean')),\n",
    "    ('svm', SVC(kernel='rbf', random_state=1234, probability=True)),\n",
    "    ('dt', DecisionTreeClassifier(criterion=\"gini\", random_state=1234)),\n",
    "    ('nb', GaussianNB()),\n",
    "    ('lr', LogisticRegression(max_iter=200, random_state=1234)),\n",
    "    # ('lda', LinearDiscriminantAnalysis()),\n",
    "    # ('ldq', QuadraticDiscriminantAnalysis())\n",
    "]"
   ]
  },
  {
   "cell_type": "code",
   "execution_count": 23,
   "id": "1cb5e2bb-23f2-484d-94a4-34f9e425fc19",
   "metadata": {},
   "outputs": [],
   "source": [
    "# Algoritma ensembel learning\n",
    "# 1. Voting\n",
    "voting = VotingClassifier(estimators=estimators, voting='soft').fit(x_train, y_train).predict(x_test)\n",
    "# 2. Stacking\n",
    "stacking = StackingClassifier(estimators=estimators,stack_method='predict').fit(x_train, y_train).predict(x_test)"
   ]
  },
  {
   "cell_type": "code",
   "execution_count": 24,
   "id": "41997caf-0b4e-49ab-8076-431f89f3ed03",
   "metadata": {},
   "outputs": [],
   "source": [
    "# hasil prediksi ensembel\n",
    "hasil = pd.DataFrame({\n",
    "    \"Voting\": voting,\n",
    "    \"Stacking\": stacking,\n",
    "    \"Target\": y_test\n",
    "})"
   ]
  },
  {
   "cell_type": "code",
   "execution_count": 25,
   "id": "2863fdaf-88c0-44cb-9aaf-0f3ac007f170",
   "metadata": {
    "tags": []
   },
   "outputs": [
    {
     "name": "stdout",
     "output_type": "stream",
     "text": [
      "Voting\n",
      "0.8641\n",
      "0.8599\n",
      "0.8579\n",
      "0.8582\n",
      "------------------------- \n",
      "\n",
      "Stacking\n",
      "0.8533\n",
      "0.8499\n",
      "0.8483\n",
      "0.8486\n",
      "------------------------- \n",
      "\n"
     ]
    }
   ],
   "source": [
    "for i in range(len(hasil.columns)-1):\n",
    "    print(hasil.columns[i])\n",
    "    print(np.round(accuracy_score(hasil[\"Target\"], hasil.iloc[:,i:i+1]), 4))\n",
    "    print(np.round(precision_score(hasil[\"Target\"], hasil.iloc[:,i:i+1], average=\"macro\"), 4))\n",
    "    print(np.round(recall_score(hasil[\"Target\"], hasil.iloc[:,i:i+1], average=\"macro\"), 4))\n",
    "    print(np.round(f1_score(hasil[\"Target\"], hasil.iloc[:,i:i+1], average=\"macro\"), 4))\n",
    "    print(\"------------------------- \\n\")"
   ]
  },
  {
   "cell_type": "code",
   "execution_count": 26,
   "id": "cd3db0fa-e6ae-4e69-a926-8a69f37027d9",
   "metadata": {
    "tags": []
   },
   "outputs": [
    {
     "data": {
      "image/png": "[encoded data removed]",
      "text/plain": [
       "<Figure size 600x300 with 2 Axes>"
      ]
     },
     "metadata": {},
     "output_type": "display_data"
    },
    {
     "data": {
      "image/png": "[encoded data removed]",
      "text/plain": [
       "<Figure size 600x300 with 2 Axes>"
      ]
     },
     "metadata": {},
     "output_type": "display_data"
    }
   ],
   "source": [
    "for i in range(len(hasil.columns)-1):\n",
    "    fig,ax = plt.subplots(figsize=(6,3))\n",
    "    sns.heatmap(confusion_matrix(hasil[\"Target\"], hasil.iloc[:,i:i+1]),annot=True, cmap=\"RdYlGn_r\")\n",
    "    plt.title(hasil.columns[i], fontsize=12)\n",
    "    plt.show()"
   ]
  },
  {
   "cell_type": "markdown",
   "id": "6705c5a5-4f0c-46b6-b082-a573d046a61a",
   "metadata": {
    "tags": []
   },
   "source": [
    "### 5.2 Ensembel Bagging "
   ]
  },
  {
   "cell_type": "code",
   "execution_count": 27,
   "id": "fd2eef30-955b-4ec2-bf92-0e4c6272eba1",
   "metadata": {
    "tags": []
   },
   "outputs": [],
   "source": [
    "# Algoritma supervised learning\n",
    "knn = KNeighborsClassifier(n_neighbors=3, weights='distance', p=1, metric='euclidean')\n",
    "svm = SVC(kernel='rbf', random_state=1234, probability=True)\n",
    "dt = DecisionTreeClassifier(criterion=\"gini\", random_state=1234)\n",
    "gnb = GaussianNB()\n",
    "lr = LogisticRegression(max_iter=200, random_state=1234)\n",
    "lda =LinearDiscriminantAnalysis()\n",
    "ldq = QuadraticDiscriminantAnalysis()"
   ]
  },
  {
   "cell_type": "code",
   "execution_count": 28,
   "id": "4c2471ed-09f8-4c4c-8f4c-5de31fe3207b",
   "metadata": {
    "tags": []
   },
   "outputs": [],
   "source": [
    "# Algoritma ensembel learning\n",
    "knn_bagging = BaggingClassifier(estimator=knn, n_estimators=50, random_state=1234).fit(x_train, y_train).predict(x_test)"
   ]
  },
  {
   "cell_type": "code",
   "execution_count": 29,
   "id": "cbe07845-edcf-445b-bb57-fb9cf7a2d0fb",
   "metadata": {
    "tags": []
   },
   "outputs": [],
   "source": [
    "svm_bagging = BaggingClassifier(estimator=svm, n_estimators=50, random_state=1234).fit(x_train, y_train).predict(x_test)"
   ]
  },
  {
   "cell_type": "code",
   "execution_count": 30,
   "id": "653d5d43-b1b9-4aaf-89a7-5391d2e584aa",
   "metadata": {
    "tags": []
   },
   "outputs": [],
   "source": [
    "dt_bagging = BaggingClassifier(estimator=dt, n_estimators=50, random_state=1234).fit(x_train, y_train).predict(x_test)"
   ]
  },
  {
   "cell_type": "code",
   "execution_count": 31,
   "id": "e51588d4-1127-4ff9-8167-545b6c5ef0db",
   "metadata": {
    "tags": []
   },
   "outputs": [],
   "source": [
    "gnb_bagging = BaggingClassifier(estimator=gnb, n_estimators=50, random_state=1234).fit(x_train, y_train).predict(x_test)"
   ]
  },
  {
   "cell_type": "code",
   "execution_count": 32,
   "id": "8f21f6c3-2e4e-4696-b04b-8eb4c21815c0",
   "metadata": {
    "tags": []
   },
   "outputs": [],
   "source": [
    "lr_bagging = BaggingClassifier(estimator=lr, n_estimators=50, random_state=1234).fit(x_train, y_train).predict(x_test)"
   ]
  },
  {
   "cell_type": "code",
   "execution_count": 33,
   "id": "ce165084-5956-4265-89de-39bb8e84c6f0",
   "metadata": {
    "tags": []
   },
   "outputs": [],
   "source": [
    "lda_bagging = BaggingClassifier(estimator=lda, n_estimators=50, random_state=7).fit(x_train, y_train).predict(x_test)"
   ]
  },
  {
   "cell_type": "code",
   "execution_count": 34,
   "id": "f04d63d8-ea95-406f-ac5f-161ea6d85eeb",
   "metadata": {
    "tags": []
   },
   "outputs": [],
   "source": [
    "ldq_bagging = BaggingClassifier(estimator=ldq, n_estimators=50, random_state=1234).fit(x_train, y_train).predict(x_test)"
   ]
  },
  {
   "cell_type": "code",
   "execution_count": 35,
   "id": "dcee213a-a2f2-440f-9058-c30eccec9c6b",
   "metadata": {
    "tags": []
   },
   "outputs": [],
   "source": [
    "# hasil prediksi ensembel\n",
    "hasil = pd.DataFrame({\n",
    "    \"knn\": knn_bagging,\n",
    "    \"svm\": svm_bagging,\n",
    "    \"dt\": dt_bagging,\n",
    "    \"gnb\": gnb_bagging,\n",
    "    \"lr\": lr_bagging,\n",
    "    \"lda\": lda_bagging,\n",
    "    \"ldq\": ldq_bagging,\n",
    "    \"Target\": y_test\n",
    "})"
   ]
  },
  {
   "cell_type": "code",
   "execution_count": 36,
   "id": "9b782389-44c8-4760-a954-8fa13fb9b874",
   "metadata": {
    "tags": []
   },
   "outputs": [
    {
     "name": "stdout",
     "output_type": "stream",
     "text": [
      "Ensambel Bagging\n",
      "----------------\n",
      "\n",
      "knn\n",
      "0.8424\n",
      "0.8432\n",
      "0.8364\n",
      "0.8369\n",
      "------------------------- \n",
      "\n",
      "svm\n",
      "0.837\n",
      "0.8296\n",
      "0.8302\n",
      "0.8298\n",
      "------------------------- \n",
      "\n",
      "dt\n",
      "0.8913\n",
      "0.8867\n",
      "0.8871\n",
      "0.8869\n",
      "------------------------- \n",
      "\n",
      "gnb\n",
      "0.7989\n",
      "0.7954\n",
      "0.7903\n",
      "0.7914\n",
      "------------------------- \n",
      "\n",
      "lr\n",
      "0.8207\n",
      "0.8129\n",
      "0.8139\n",
      "0.813\n",
      "------------------------- \n",
      "\n",
      "lda\n",
      "0.8043\n",
      "0.8032\n",
      "0.8001\n",
      "0.8008\n",
      "------------------------- \n",
      "\n",
      "ldq\n",
      "0.8315\n",
      "0.8279\n",
      "0.8234\n",
      "0.8243\n",
      "------------------------- \n",
      "\n"
     ]
    }
   ],
   "source": [
    "print(\"Ensambel Bagging\")\n",
    "print(\"----------------\\n\")\n",
    "for i in range(len(hasil.columns)-1):\n",
    "    print(hasil.columns[i])\n",
    "    print(np.round(accuracy_score(hasil[\"Target\"], hasil.iloc[:,i:i+1]), 4))\n",
    "    print(np.round(precision_score(hasil[\"Target\"], hasil.iloc[:,i:i+1], average=\"macro\"), 4))\n",
    "    print(np.round(recall_score(hasil[\"Target\"], hasil.iloc[:,i:i+1], average=\"macro\"), 4))\n",
    "    print(np.round(f1_score(hasil[\"Target\"], hasil.iloc[:,i:i+1], average=\"macro\"), 4))\n",
    "    print(\"------------------------- \\n\")"
   ]
  },
  {
   "cell_type": "markdown",
   "id": "fe92968f-1dfd-4825-a812-01488b11935b",
   "metadata": {},
   "source": [
    "### 5.3 Ensembel Boosting"
   ]
  },
  {
   "cell_type": "code",
   "execution_count": 37,
   "id": "77bb1540-6ba4-4b52-bdf2-9a386d25e5c7",
   "metadata": {
    "jp-MarkdownHeadingCollapsed": true,
    "tags": []
   },
   "outputs": [],
   "source": [
    "# best recom random state\n",
    "# svm = 0, 100\n",
    "# dt = 0, 7, 42, 1234, 100\n",
    "# gnb = 0, 7, 42, 1234, 100\n",
    "# lr = 0, 7, 42, 1234, 100"
   ]
  },
  {
   "cell_type": "code",
   "execution_count": 38,
   "id": "b12b1b64-1b94-46be-9998-dd1d9fc1a76d",
   "metadata": {
    "tags": []
   },
   "outputs": [],
   "source": [
    "# # Algoritma ensembel learning\n",
    "# knn_boosting = AdaBoostClassifier(estimator=knn, n_estimators=50, random_state=0).fit(x_train, y_train).predict(x_test)"
   ]
  },
  {
   "cell_type": "code",
   "execution_count": 39,
   "id": "f21cca47-5a3e-40bf-95a9-23f5c5d07305",
   "metadata": {
    "tags": []
   },
   "outputs": [],
   "source": [
    "# svm_boosting = AdaBoostClassifier(estimator=svm, n_estimators=50, random_state=0).fit(x_train, y_train).predict(x_test)"
   ]
  },
  {
   "cell_type": "code",
   "execution_count": 40,
   "id": "1fc54dfb-62ae-4a28-88f0-139c6f6f7781",
   "metadata": {
    "tags": []
   },
   "outputs": [],
   "source": [
    "# dt_boosting = AdaBoostClassifier(estimator=dt, n_estimators=50, random_state=1234).fit(x_train, y_train).predict(x_test)"
   ]
  },
  {
   "cell_type": "code",
   "execution_count": 41,
   "id": "0587d726-601a-4c31-b060-d43493fb5bb3",
   "metadata": {
    "tags": []
   },
   "outputs": [],
   "source": [
    "# gnb_boosting = AdaBoostClassifier(estimator=gnb, n_estimators=50, random_state=1234).fit(x_train, y_train).predict(x_test)"
   ]
  },
  {
   "cell_type": "code",
   "execution_count": 42,
   "id": "2cb34445-ccac-4359-bdbb-c8da19637e3c",
   "metadata": {
    "tags": []
   },
   "outputs": [],
   "source": [
    "# lr_boosting = AdaBoostClassifier(estimator=lr, n_estimators=50, random_state=1234).fit(x_train, y_train).predict(x_test)"
   ]
  },
  {
   "cell_type": "code",
   "execution_count": 43,
   "id": "8fa2b004-6694-469b-b2e8-d0b8a9913338",
   "metadata": {
    "tags": []
   },
   "outputs": [],
   "source": [
    "# lda_boosting = AdaBoostClassifier(estimator=lda, n_estimators=50, random_state=1234).fit(x_train, y_train).predict(x_test)"
   ]
  },
  {
   "cell_type": "code",
   "execution_count": 44,
   "id": "344e4916-f1c1-4766-9f84-3bdb1a990053",
   "metadata": {
    "tags": []
   },
   "outputs": [],
   "source": [
    "# ldq_boosting = AdaBoostClassifier(estimator=ldq, n_estimators=50, random_state=0).fit(x_train, y_train).predict(x_test)"
   ]
  },
  {
   "cell_type": "code",
   "execution_count": 45,
   "id": "2e884004-f3f8-44a3-9b15-6a993d558390",
   "metadata": {
    "tags": []
   },
   "outputs": [],
   "source": [
    "# # hasil prediksi ensembel\n",
    "# hasil = pd.DataFrame({\n",
    "#     # \"knn\": knn_boosting,\n",
    "#     \"svm\": svm_boosting,\n",
    "#     \"dt\": dt_boosting,\n",
    "#     \"gnb\": gnb_boosting,\n",
    "#     \"lr\": lr_boosting,\n",
    "#     # \"lda\": lda_boosting,\n",
    "#     # \"ldq\": lqa_boosting,\n",
    "#     \"Target\": y_test\n",
    "# })"
   ]
  },
  {
   "cell_type": "code",
   "execution_count": 46,
   "id": "9751b765-742e-4a38-b192-450c205cb46a",
   "metadata": {
    "tags": []
   },
   "outputs": [],
   "source": [
    "# print(\"Ensambel Boosting\")\n",
    "# for i in range(len(hasil.columns)-1):\n",
    "#     print(hasil.columns[i])\n",
    "#     print(np.round(accuracy_score(hasil[\"Target\"], hasil.iloc[:,i:i+1]), 4))\n",
    "#     print(np.round(precision_score(hasil[\"Target\"], hasil.iloc[:,i:i+1], average=\"macro\"), 4))\n",
    "#     print(np.round(recall_score(hasil[\"Target\"], hasil.iloc[:,i:i+1], average=\"macro\"), 4))\n",
    "#     print(np.round(f1_score(hasil[\"Target\"], hasil.iloc[:,i:i+1], average=\"macro\"), 4))\n",
    "#     print(\"------------------------- \\n\")"
   ]
  },
  {
   "cell_type": "code",
   "execution_count": null,
   "id": "1e3189ed-198e-42c8-8b0b-c66234a0b3d6",
   "metadata": {
    "tags": []
   },
   "outputs": [],
   "source": []
  },
  {
   "cell_type": "code",
   "execution_count": null,
   "id": "d46daf74-7b4b-456a-845f-8581c84a54ef",
   "metadata": {},
   "outputs": [],
   "source": []
  }
 ],
 "metadata": {
  "kernelspec": {
   "display_name": "Python 3 (ipykernel)",
   "language": "python",
   "name": "python3"
  },
  "language_info": {
   "codemirror_mode": {
    "name": "ipython",
    "version": 3
   },
   "file_extension": ".py",
   "mimetype": "text/x-python",
   "name": "python",
   "nbconvert_exporter": "python",
   "pygments_lexer": "ipython3",
   "version": "3.11.5"
  }
 },
 "nbformat": 4,
 "nbformat_minor": 5
}
