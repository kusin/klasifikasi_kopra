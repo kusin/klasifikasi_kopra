{
 "cells": [
  {
   "cell_type": "markdown",
   "id": "ec868dc5-4508-4307-bba4-798b5d819658",
   "metadata": {},
   "source": [
    "# Klasifikasi Jenis Kopra dengan Konsep Machine Learning dan Ensembel Learning"
   ]
  },
  {
   "cell_type": "markdown",
   "id": "37a9f5d3-c057-4fb7-be86-202793600ce0",
   "metadata": {
    "tags": []
   },
   "source": [
    "Kontribusi Riset\n",
    "- Pembagian data = 80% dan 20%, 90% dan 10%\n",
    "- Ektrasi Fitur = Warna, Bentuk, Tesktur\n",
    "- Metode Klasifikasi = KNN, SVM, DT, RF, NB, LR, LDA, QDA\n",
    "- Metode Ensambel Learning = Votting, Bagging, Stacking, AdaBoost"
   ]
  },
  {
   "cell_type": "code",
   "execution_count": 1,
   "id": "59a29316-548a-4989-ab67-18a627f5742a",
   "metadata": {},
   "outputs": [
    {
     "name": "stdout",
     "output_type": "stream",
     "text": [
      "<class 'pandas.core.frame.DataFrame'>\n",
      "RangeIndex: 1839 entries, 0 to 1838\n",
      "Data columns (total 16 columns):\n",
      " #   Column           Non-Null Count  Dtype  \n",
      "---  ------           --------------  -----  \n",
      " 0   Mean-R           1839 non-null   float64\n",
      " 1   Mean-G           1839 non-null   float64\n",
      " 2   Mean-B           1839 non-null   float64\n",
      " 3   Mean-H           1839 non-null   float64\n",
      " 4   Mean-V           1839 non-null   float64\n",
      " 5   Mean-S           1839 non-null   float64\n",
      " 6   Mean-Gray        1839 non-null   float64\n",
      " 7   Standar-Deviasi  1839 non-null   float64\n",
      " 8   Luas             1839 non-null   float64\n",
      " 9   Perimeter        1839 non-null   float64\n",
      " 10  Contrast         1839 non-null   float64\n",
      " 11  Dissimilarity    1839 non-null   float64\n",
      " 12  Homogeneity      1839 non-null   float64\n",
      " 13  Energy           1839 non-null   float64\n",
      " 14  Correlation      1839 non-null   float64\n",
      " 15  Jenis Kopra      1839 non-null   int64  \n",
      "dtypes: float64(15), int64(1)\n",
      "memory usage: 230.0 KB\n"
     ]
    }
   ],
   "source": [
    "from ipynb.fs.full.akuisisi_data import *"
   ]
  },
  {
   "cell_type": "markdown",
   "id": "54898697-baff-434d-bb3e-edda958dcb59",
   "metadata": {
    "tags": []
   },
   "source": [
    "## 3. Praproses Data"
   ]
  },
  {
   "cell_type": "markdown",
   "id": "f0fc944d-a24a-483c-9c90-200b3e1929f9",
   "metadata": {},
   "source": [
    "- Setting experiment"
   ]
  },
  {
   "cell_type": "code",
   "execution_count": 2,
   "id": "5013e755-cbba-4d96-839a-ab677d911ca4",
   "metadata": {},
   "outputs": [
    {
     "name": "stdout",
     "output_type": "stream",
     "text": [
      "Percobaan 7\n"
     ]
    }
   ],
   "source": [
    "# # 1. skenario W\n",
    "# print(\"Percobaan 1\")\n",
    "# x = dataset.iloc[:,0:8].values\n",
    "\n",
    "# # 2. skenario B\n",
    "# print(\"Percobaan 2\")\n",
    "# x = dataset.iloc[:,8:10].values\n",
    "\n",
    "# # 3. skenario T\n",
    "# print(\"Percobaan 3\")\n",
    "# x = dataset.iloc[:,10:15].values\n",
    "\n",
    "# # 4. Skenario W dan B\n",
    "# print(\"Percobaan 4\")\n",
    "# x = dataset.iloc[:,0:10].values\n",
    "\n",
    "# # 5. Skenario W dan T\n",
    "# print(\"Percobaan 5\")\n",
    "# x = dataset.iloc[:,0:13].values\n",
    "\n",
    "# # 6. Skenario B dan T\n",
    "# print(\"Percobaan 6\")\n",
    "# x = dataset.iloc[:,8:15].values\n",
    "\n",
    "# 7. Skenario W,B,dan T\n",
    "print(\"Percobaan 7\")\n",
    "x = dataset.iloc[:,0:15].values\n",
    "\n",
    "# Taget, Jenis Kopra\n",
    "y = dataset.iloc[:,[-1]].values\n",
    "y = y.reshape(len(y))"
   ]
  },
  {
   "cell_type": "code",
   "execution_count": 3,
   "id": "4c3a50d9-2c16-4f64-9f4d-0ec7f8fd56b4",
   "metadata": {},
   "outputs": [
    {
     "data": {
      "text/plain": [
       "array([[9.9773500e+01, 8.5299300e+01, 7.2579300e+01, 1.1272000e+01,\n",
       "        9.9790600e+01, 5.1024400e+01, 8.8194400e+01, 5.4589300e+01,\n",
       "        7.9335000e+03, 2.0533048e+03, 4.3446600e+01, 3.3410000e+00,\n",
       "        4.8200000e-01, 2.2820000e-01, 9.9270000e-01],\n",
       "       [1.1416270e+02, 1.1042490e+02, 9.1145800e+01, 1.9004400e+01,\n",
       "        1.1482820e+02, 3.6871800e+01, 1.0935810e+02, 7.9939300e+01,\n",
       "        3.3489000e+04, 1.3348469e+03, 6.8707300e+01, 4.1415000e+00,\n",
       "        4.7370000e-01, 2.7630000e-01, 9.9460000e-01],\n",
       "       [8.6758700e+01, 7.7095800e+01, 5.8220200e+01, 1.4373900e+01,\n",
       "        8.6760400e+01, 5.8789900e+01, 7.7833500e+01, 5.2085100e+01,\n",
       "        1.9585000e+03, 5.7385490e+02, 3.7735000e+01, 2.9174000e+00,\n",
       "        5.2210000e-01, 2.3550000e-01, 9.9300000e-01],\n",
       "       [8.0397600e+01, 7.1179400e+01, 5.5914600e+01, 1.2919400e+01,\n",
       "        8.0399500e+01, 5.2578400e+01, 7.2236500e+01, 5.2309300e+01,\n",
       "        2.9080000e+03, 8.6297470e+02, 3.4472300e+01, 2.6061000e+00,\n",
       "        5.6490000e-01, 2.6390000e-01, 9.9370000e-01],\n",
       "       [9.8963500e+01, 8.9047000e+01, 6.8021700e+01, 1.4364200e+01,\n",
       "        9.8967400e+01, 5.6023600e+01, 8.9634500e+01, 6.3758400e+01,\n",
       "        3.1867500e+04, 7.0613920e+02, 5.1521900e+01, 3.0583000e+00,\n",
       "        5.4060000e-01, 2.5760000e-01, 9.9360000e-01]])"
      ]
     },
     "execution_count": 3,
     "metadata": {},
     "output_type": "execute_result"
    }
   ],
   "source": [
    "# feature\n",
    "np.round(x[:5],4)"
   ]
  },
  {
   "cell_type": "code",
   "execution_count": 4,
   "id": "a61e7796-4278-4ae3-a1b4-0ce4aed26d83",
   "metadata": {},
   "outputs": [
    {
     "data": {
      "text/plain": [
       "array([1, 1, 1, ..., 3, 3, 3], dtype=int64)"
      ]
     },
     "execution_count": 4,
     "metadata": {},
     "output_type": "execute_result"
    }
   ],
   "source": [
    "# label\n",
    "np.round(y[:-1])"
   ]
  },
  {
   "cell_type": "markdown",
   "id": "4f1e7239-234b-41ff-82c8-6efa70b84675",
   "metadata": {},
   "source": [
    "- Normalisasi MinMax"
   ]
  },
  {
   "cell_type": "code",
   "execution_count": 5,
   "id": "0ba2b298-d3e9-4a52-b4ee-c99e1977d648",
   "metadata": {},
   "outputs": [],
   "source": [
    "# normalize features\n",
    "scaler = MinMaxScaler()\n",
    "x = scaler.fit_transform(x)"
   ]
  },
  {
   "cell_type": "code",
   "execution_count": 6,
   "id": "9d1cdace-c31e-496f-8466-4c226a9ce0f9",
   "metadata": {},
   "outputs": [
    {
     "data": {
      "text/plain": [
       "array([[0.6636, 0.6414, 0.6765, 0.0835, 0.6637, 0.2913, 0.6519, 0.4846,\n",
       "        0.0461, 0.3391, 0.0698, 0.1371, 0.5084, 0.1479, 0.9514],\n",
       "       [0.8016, 0.8869, 0.8975, 0.1631, 0.8079, 0.1625, 0.8618, 0.8451,\n",
       "        0.1947, 0.2205, 0.1517, 0.229 , 0.484 , 0.2742, 0.9767],\n",
       "       [0.5388, 0.5613, 0.5056, 0.1155, 0.5388, 0.362 , 0.5491, 0.449 ,\n",
       "        0.0114, 0.0948, 0.0512, 0.0885, 0.625 , 0.1671, 0.9557],\n",
       "       [0.4778, 0.5034, 0.4782, 0.1005, 0.4778, 0.3054, 0.4936, 0.4522,\n",
       "        0.0169, 0.1425, 0.0407, 0.0527, 0.7493, 0.2417, 0.9645],\n",
       "       [0.6558, 0.678 , 0.6223, 0.1154, 0.6558, 0.3368, 0.6662, 0.615 ,\n",
       "        0.1853, 0.1166, 0.0959, 0.1046, 0.6785, 0.225 , 0.964 ]])"
      ]
     },
     "execution_count": 6,
     "metadata": {},
     "output_type": "execute_result"
    }
   ],
   "source": [
    "np.round(x[:5],4)"
   ]
  },
  {
   "cell_type": "markdown",
   "id": "4ea7d86c-94e9-4d24-ab6a-8b73a15541e7",
   "metadata": {},
   "source": [
    "- Split Data Testing dan Data Training"
   ]
  },
  {
   "cell_type": "code",
   "execution_count": 7,
   "id": "cb62c08d-f966-4bb4-b1d8-d68ddd2c7656",
   "metadata": {},
   "outputs": [],
   "source": [
    "x_train, x_test, y_train, y_test = train_test_split(x, y, test_size=0.1, train_size=0.9, random_state=0)"
   ]
  },
  {
   "cell_type": "markdown",
   "id": "2f774e46-b037-42ec-bd76-da5008cebff5",
   "metadata": {
    "tags": []
   },
   "source": [
    "## 4. Konsep Supervised Learning"
   ]
  },
  {
   "cell_type": "code",
   "execution_count": 8,
   "id": "98b119d7-dfc4-41ca-867d-f5d96da57c7a",
   "metadata": {},
   "outputs": [],
   "source": [
    "# 1. KNN\n",
    "knn = KNeighborsClassifier(n_neighbors=3, weights='uniform', p=1, metric='euclidean').fit(x_train,y_train).predict(x_test)\n",
    "\n",
    "# 2. SVM\n",
    "svm = SVC(kernel='rbf', random_state=1234).fit(x_train,y_train).predict(x_test)\n",
    "\n",
    "# 3. C45\n",
    "c45 = DecisionTreeClassifier(criterion=\"gini\", random_state=1234).fit(x_train,y_train).predict(x_test)\n",
    "\n",
    "# 4. NB\n",
    "nb = GaussianNB().fit(x_train,y_train).predict(x_test)\n",
    "\n",
    "# 5. LR\n",
    "lr = LogisticRegression(random_state=1234).fit(x_train, y_train).predict(x_test)\n",
    "\n",
    "# 6. LDA\n",
    "lda = LinearDiscriminantAnalysis().fit(x_train,y_train).predict(x_test)\n",
    "\n",
    "# 7. LDQ\n",
    "ldq = QuadraticDiscriminantAnalysis().fit(x_train,y_train).predict(x_test)"
   ]
  },
  {
   "cell_type": "code",
   "execution_count": 9,
   "id": "f3472ac1-3117-447c-93f6-1f3e0eee53cf",
   "metadata": {},
   "outputs": [],
   "source": [
    "hasil = pd.DataFrame({\n",
    "    \"K Nearest-Neighbor\": knn,\n",
    "    \"Suport Vector Machine\": svm,\n",
    "    \"Decision Tree\": c45,\n",
    "    \"Naive Bayes\": nb,\n",
    "    \"Logistic Regresi\": lr,\n",
    "    \"Linear Discriminant Analysis\": lda,\n",
    "    \"Quadratic Discriminant Analysis\": ldq,\n",
    "    \"Target\": y_test\n",
    "})"
   ]
  },
  {
   "cell_type": "code",
   "execution_count": 10,
   "id": "00cdc263-82ec-4977-81dc-ff9f6d70afd4",
   "metadata": {},
   "outputs": [
    {
     "name": "stdout",
     "output_type": "stream",
     "text": [
      "Supervised Learning\n",
      "------------------- \n",
      "\n",
      "K Nearest-Neighbor\n",
      "0.837\n",
      "0.8369\n",
      "0.834\n",
      "0.8346\n",
      "------------------------- \n",
      "\n",
      "Suport Vector Machine\n",
      "0.8424\n",
      "0.8384\n",
      "0.8389\n",
      "0.8382\n",
      "------------------------- \n",
      "\n",
      "Decision Tree\n",
      "0.8043\n",
      "0.8019\n",
      "0.8012\n",
      "0.8014\n",
      "------------------------- \n",
      "\n",
      "Naive Bayes\n",
      "0.7717\n",
      "0.7715\n",
      "0.7676\n",
      "0.7679\n",
      "------------------------- \n",
      "\n",
      "Logistic Regresi\n",
      "0.8179\n",
      "0.8126\n",
      "0.8143\n",
      "0.8128\n",
      "------------------------- \n",
      "\n",
      "Linear Discriminant Analysis\n",
      "0.8179\n",
      "0.8149\n",
      "0.8152\n",
      "0.815\n",
      "------------------------- \n",
      "\n",
      "Quadratic Discriminant Analysis\n",
      "0.8043\n",
      "0.8011\n",
      "0.8014\n",
      "0.7999\n",
      "------------------------- \n",
      "\n"
     ]
    }
   ],
   "source": [
    "print(\"Supervised Learning\")\n",
    "print(\"------------------- \\n\")\n",
    "for i in range(len(hasil.columns)-1):\n",
    "    print(hasil.columns[i])\n",
    "    print(np.round(accuracy_score(hasil[\"Target\"], hasil.iloc[:,i:i+1]), 4))\n",
    "    print(np.round(precision_score(hasil[\"Target\"], hasil.iloc[:,i:i+1], average=\"macro\"), 4))\n",
    "    print(np.round(recall_score(hasil[\"Target\"], hasil.iloc[:,i:i+1], average=\"macro\"), 4))\n",
    "    print(np.round(f1_score(hasil[\"Target\"], hasil.iloc[:,i:i+1], average=\"macro\"), 4))\n",
    "    print(\"------------------------- \\n\")"
   ]
  },
  {
   "cell_type": "code",
   "execution_count": 11,
   "id": "8198a8a3-c92a-4790-b106-45d877f1919d",
   "metadata": {},
   "outputs": [
    {
     "data": {
      "image/png": "[encoded data removed]",
      "text/plain": [
       "<Figure size 600x300 with 2 Axes>"
      ]
     },
     "metadata": {},
     "output_type": "display_data"
    },
    {
     "data": {
      "image/png": "[encoded data removed]",
      "text/plain": [
       "<Figure size 600x300 with 2 Axes>"
      ]
     },
     "metadata": {},
     "output_type": "display_data"
    },
    {
     "data": {
      "image/png": "[encoded data removed]",
      "text/plain": [
       "<Figure size 600x300 with 2 Axes>"
      ]
     },
     "metadata": {},
     "output_type": "display_data"
    },
    {
     "data": {
      "image/png": "[encoded data removed]",
      "text/plain": [
       "<Figure size 600x300 with 2 Axes>"
      ]
     },
     "metadata": {},
     "output_type": "display_data"
    },
    {
     "data": {
      "image/png": "[encoded data removed]",
      "text/plain": [
       "<Figure size 600x300 with 2 Axes>"
      ]
     },
     "metadata": {},
     "output_type": "display_data"
    },
    {
     "data": {
      "image/png": "[encoded data removed]",
      "text/plain": [
       "<Figure size 600x300 with 2 Axes>"
      ]
     },
     "metadata": {},
     "output_type": "display_data"
    },
    {
     "data": {
      "image/png": "[encoded data removed]",
      "text/plain": [
       "<Figure size 600x300 with 2 Axes>"
      ]
     },
     "metadata": {},
     "output_type": "display_data"
    }
   ],
   "source": [
    "for i in range(len(hasil.columns)-1):\n",
    "    fig,ax = plt.subplots(figsize=(6,3))\n",
    "    sns.heatmap(confusion_matrix(hasil[\"Target\"], hasil.iloc[:,i:i+1]),annot=True, cmap=\"RdYlGn_r\")\n",
    "    plt.title(hasil.columns[i], fontsize=12)\n",
    "    plt.show()"
   ]
  },
  {
   "cell_type": "markdown",
   "id": "f82653a9-1227-4d40-a0be-37e9b4c56780",
   "metadata": {
    "tags": []
   },
   "source": [
    "## 5. Ensambel Learning Classifier"
   ]
  },
  {
   "cell_type": "markdown",
   "id": "99e2c79f-d228-49ef-abed-49ea6117682e",
   "metadata": {
    "tags": []
   },
   "source": [
    "### 5.1 Multi Base Model"
   ]
  },
  {
   "cell_type": "code",
   "execution_count": 12,
   "id": "3ca3e144-0e70-42ab-bd77-71c3be9702b2",
   "metadata": {},
   "outputs": [],
   "source": [
    "# Algoritma supervised learning\n",
    "estimators = [\n",
    "    ('knn', KNeighborsClassifier(n_neighbors=3, weights='uniform', p=1, metric='euclidean')),\n",
    "    ('svm', SVC(kernel='rbf', random_state=1234, probability=True)),\n",
    "    ('dt', DecisionTreeClassifier(criterion=\"gini\", random_state=1234)),\n",
    "    ('nb', GaussianNB()),\n",
    "    ('lr', LogisticRegression(max_iter=200, random_state=1234)),\n",
    "    # ('lda', LinearDiscriminantAnalysis()),\n",
    "    # ('ldq', QuadraticDiscriminantAnalysis())\n",
    "]"
   ]
  },
  {
   "cell_type": "code",
   "execution_count": 13,
   "id": "1cb5e2bb-23f2-484d-94a4-34f9e425fc19",
   "metadata": {},
   "outputs": [],
   "source": [
    "# Algoritma ensembel learning\n",
    "# 1. Voting\n",
    "voting = VotingClassifier(estimators=estimators, voting='soft').fit(x_train, y_train).predict(x_test)\n",
    "# 2. Stacking\n",
    "stacking = StackingClassifier(estimators=estimators,stack_method='predict').fit(x_train, y_train).predict(x_test)"
   ]
  },
  {
   "cell_type": "code",
   "execution_count": 14,
   "id": "41997caf-0b4e-49ab-8076-431f89f3ed03",
   "metadata": {},
   "outputs": [],
   "source": [
    "# hasil prediksi ensembel\n",
    "hasil = pd.DataFrame({\n",
    "    \"Voting\": voting,\n",
    "    \"Stacking\": stacking,\n",
    "    \"Target\": y_test\n",
    "})"
   ]
  },
  {
   "cell_type": "code",
   "execution_count": 15,
   "id": "2863fdaf-88c0-44cb-9aaf-0f3ac007f170",
   "metadata": {
    "tags": []
   },
   "outputs": [
    {
     "name": "stdout",
     "output_type": "stream",
     "text": [
      "Voting\n",
      "0.8505\n",
      "0.8478\n",
      "0.8474\n",
      "0.8473\n",
      "------------------------- \n",
      "\n",
      "Stacking\n",
      "0.856\n",
      "0.853\n",
      "0.8531\n",
      "0.853\n",
      "------------------------- \n",
      "\n"
     ]
    }
   ],
   "source": [
    "for i in range(len(hasil.columns)-1):\n",
    "    print(hasil.columns[i])\n",
    "    print(np.round(accuracy_score(hasil[\"Target\"], hasil.iloc[:,i:i+1]), 4))\n",
    "    print(np.round(precision_score(hasil[\"Target\"], hasil.iloc[:,i:i+1], average=\"macro\"), 4))\n",
    "    print(np.round(recall_score(hasil[\"Target\"], hasil.iloc[:,i:i+1], average=\"macro\"), 4))\n",
    "    print(np.round(f1_score(hasil[\"Target\"], hasil.iloc[:,i:i+1], average=\"macro\"), 4))\n",
    "    print(\"------------------------- \\n\")"
   ]
  },
  {
   "cell_type": "code",
   "execution_count": 16,
   "id": "cd3db0fa-e6ae-4e69-a926-8a69f37027d9",
   "metadata": {
    "tags": []
   },
   "outputs": [
    {
     "data": {
      "image/png": "[encoded data removed]",
      "text/plain": [
       "<Figure size 600x300 with 2 Axes>"
      ]
     },
     "metadata": {},
     "output_type": "display_data"
    },
    {
     "data": {
      "image/png": "[encoded data removed]",
      "text/plain": [
       "<Figure size 600x300 with 2 Axes>"
      ]
     },
     "metadata": {},
     "output_type": "display_data"
    }
   ],
   "source": [
    "for i in range(len(hasil.columns)-1):\n",
    "    fig,ax = plt.subplots(figsize=(6,3))\n",
    "    sns.heatmap(confusion_matrix(hasil[\"Target\"], hasil.iloc[:,i:i+1]),annot=True, cmap=\"RdYlGn_r\")\n",
    "    plt.title(hasil.columns[i], fontsize=12)\n",
    "    plt.show()"
   ]
  },
  {
   "cell_type": "markdown",
   "id": "6705c5a5-4f0c-46b6-b082-a573d046a61a",
   "metadata": {
    "tags": []
   },
   "source": [
    "### 5.2 Singel Base Model"
   ]
  },
  {
   "cell_type": "code",
   "execution_count": 17,
   "id": "fd2eef30-955b-4ec2-bf92-0e4c6272eba1",
   "metadata": {
    "tags": []
   },
   "outputs": [],
   "source": [
    "# Algoritma supervised learning\n",
    "knn = KNeighborsClassifier(n_neighbors=3, weights='uniform', p=1, metric='euclidean')\n",
    "svm = SVC(kernel='rbf', random_state=1234, probability=True)\n",
    "dt = DecisionTreeClassifier(criterion=\"gini\", random_state=1234)\n",
    "gnb = GaussianNB()\n",
    "lr = LogisticRegression(max_iter=200, random_state=1234)\n",
    "lda =LinearDiscriminantAnalysis()\n",
    "ldq = QuadraticDiscriminantAnalysis()"
   ]
  },
  {
   "cell_type": "code",
   "execution_count": 18,
   "id": "4c2471ed-09f8-4c4c-8f4c-5de31fe3207b",
   "metadata": {
    "tags": []
   },
   "outputs": [],
   "source": [
    "# # Algoritma ensembel learning\n",
    "# knn_bagging = BaggingClassifier(estimator=knn, n_estimators=50, random_state=42).fit(x_train, y_train).predict(x_test)"
   ]
  },
  {
   "cell_type": "code",
   "execution_count": 19,
   "id": "cbe07845-edcf-445b-bb57-fb9cf7a2d0fb",
   "metadata": {
    "tags": []
   },
   "outputs": [],
   "source": [
    "svm_bagging = BaggingClassifier(estimator=svm, n_estimators=50, random_state=42).fit(x_train, y_train).predict(x_test)"
   ]
  },
  {
   "cell_type": "code",
   "execution_count": 20,
   "id": "653d5d43-b1b9-4aaf-89a7-5391d2e584aa",
   "metadata": {
    "tags": []
   },
   "outputs": [],
   "source": [
    "dt_bagging = BaggingClassifier(estimator=dt, n_estimators=50, random_state=42).fit(x_train, y_train).predict(x_test)"
   ]
  },
  {
   "cell_type": "code",
   "execution_count": 21,
   "id": "e51588d4-1127-4ff9-8167-545b6c5ef0db",
   "metadata": {
    "tags": []
   },
   "outputs": [],
   "source": [
    "gnb_bagging = BaggingClassifier(estimator=gnb, n_estimators=50, random_state=42).fit(x_train, y_train).predict(x_test)"
   ]
  },
  {
   "cell_type": "code",
   "execution_count": 22,
   "id": "8f21f6c3-2e4e-4696-b04b-8eb4c21815c0",
   "metadata": {
    "tags": []
   },
   "outputs": [],
   "source": [
    "lr_bagging = BaggingClassifier(estimator=lr, n_estimators=50, random_state=42).fit(x_train, y_train).predict(x_test)"
   ]
  },
  {
   "cell_type": "code",
   "execution_count": 23,
   "id": "ce165084-5956-4265-89de-39bb8e84c6f0",
   "metadata": {
    "tags": []
   },
   "outputs": [],
   "source": [
    "# lda_bagging = BaggingClassifier(estimator=lda, n_estimators=50, random_state=42).fit(x_train, y_train).predict(x_test)"
   ]
  },
  {
   "cell_type": "code",
   "execution_count": 24,
   "id": "f04d63d8-ea95-406f-ac5f-161ea6d85eeb",
   "metadata": {
    "tags": []
   },
   "outputs": [],
   "source": [
    "# ldq_bagging = BaggingClassifier(estimator=ldq, n_estimators=50, random_state=42).fit(x_train, y_train).predict(x_test)"
   ]
  },
  {
   "cell_type": "code",
   "execution_count": 25,
   "id": "dcee213a-a2f2-440f-9058-c30eccec9c6b",
   "metadata": {
    "tags": []
   },
   "outputs": [],
   "source": [
    "# hasil prediksi ensembel\n",
    "hasil = pd.DataFrame({\n",
    "    \"svm\": svm_bagging,\n",
    "    \"dt\": dt_bagging,\n",
    "    \"gnb\": gnb_bagging,\n",
    "    \"lr\": lr_bagging,\n",
    "    \"Target\": y_test\n",
    "})"
   ]
  },
  {
   "cell_type": "code",
   "execution_count": 26,
   "id": "9b782389-44c8-4760-a954-8fa13fb9b874",
   "metadata": {
    "tags": []
   },
   "outputs": [
    {
     "name": "stdout",
     "output_type": "stream",
     "text": [
      "Ensambel Bagging\n",
      "----------------\n",
      "\n",
      "svm\n",
      "0.8397\n",
      "0.8346\n",
      "0.8362\n",
      "0.8348\n",
      "------------------------- \n",
      "\n",
      "dt\n",
      "0.8668\n",
      "0.8639\n",
      "0.8644\n",
      "0.8639\n",
      "------------------------- \n",
      "\n",
      "gnb\n",
      "0.7717\n",
      "0.7715\n",
      "0.7676\n",
      "0.7679\n",
      "------------------------- \n",
      "\n",
      "lr\n",
      "0.8179\n",
      "0.8126\n",
      "0.8143\n",
      "0.8128\n",
      "------------------------- \n",
      "\n"
     ]
    }
   ],
   "source": [
    "print(\"Ensambel Bagging\")\n",
    "print(\"----------------\\n\")\n",
    "for i in range(len(hasil.columns)-1):\n",
    "    print(hasil.columns[i])\n",
    "    print(np.round(accuracy_score(hasil[\"Target\"], hasil.iloc[:,i:i+1]), 4))\n",
    "    print(np.round(precision_score(hasil[\"Target\"], hasil.iloc[:,i:i+1], average=\"macro\"), 4))\n",
    "    print(np.round(recall_score(hasil[\"Target\"], hasil.iloc[:,i:i+1], average=\"macro\"), 4))\n",
    "    print(np.round(f1_score(hasil[\"Target\"], hasil.iloc[:,i:i+1], average=\"macro\"), 4))\n",
    "    print(\"------------------------- \\n\")"
   ]
  },
  {
   "cell_type": "code",
   "execution_count": null,
   "id": "33902c42-5972-4947-9b6f-b82a73b7d1bd",
   "metadata": {},
   "outputs": [],
   "source": []
  },
  {
   "cell_type": "code",
   "execution_count": 38,
   "id": "b12b1b64-1b94-46be-9998-dd1d9fc1a76d",
   "metadata": {
    "tags": []
   },
   "outputs": [],
   "source": [
    "# # Algoritma ensembel learning\n",
    "# knn_boosting = AdaBoostClassifier(estimator=knn, n_estimators=50, random_state=42).fit(x_train, y_train).predict(x_test)"
   ]
  },
  {
   "cell_type": "code",
   "execution_count": null,
   "id": "f21cca47-5a3e-40bf-95a9-23f5c5d07305",
   "metadata": {
    "tags": []
   },
   "outputs": [],
   "source": [
    "svm_boosting = AdaBoostClassifier(estimator=svm, n_estimators=50, random_state=42).fit(x_train, y_train).predict(x_test)"
   ]
  },
  {
   "cell_type": "code",
   "execution_count": null,
   "id": "1fc54dfb-62ae-4a28-88f0-139c6f6f7781",
   "metadata": {
    "tags": []
   },
   "outputs": [],
   "source": [
    "dt_boosting = AdaBoostClassifier(estimator=dt, n_estimators=50, random_state=42).fit(x_train, y_train).predict(x_test)"
   ]
  },
  {
   "cell_type": "code",
   "execution_count": 30,
   "id": "6c771426-5b72-457e-806b-20f53b25b1c5",
   "metadata": {
    "tags": []
   },
   "outputs": [],
   "source": [
    "# rf_boosting = AdaBoostClassifier(estimator=rf, n_estimators=50, random_state=42).fit(x_train, y_train).predict(x_test)"
   ]
  },
  {
   "cell_type": "code",
   "execution_count": 31,
   "id": "0587d726-601a-4c31-b060-d43493fb5bb3",
   "metadata": {
    "tags": []
   },
   "outputs": [],
   "source": [
    "# gnb_boosting = AdaBoostClassifier(estimator=gnb, n_estimators=50, random_state=42).fit(x_train, y_train).predict(x_test)"
   ]
  },
  {
   "cell_type": "code",
   "execution_count": 32,
   "id": "2cb34445-ccac-4359-bdbb-c8da19637e3c",
   "metadata": {
    "tags": []
   },
   "outputs": [],
   "source": [
    "# lr_boosting = AdaBoostClassifier(estimator=lr, n_estimators=50, random_state=42).fit(x_train, y_train).predict(x_test)"
   ]
  },
  {
   "cell_type": "code",
   "execution_count": 33,
   "id": "8fa2b004-6694-469b-b2e8-d0b8a9913338",
   "metadata": {
    "tags": []
   },
   "outputs": [],
   "source": [
    "# lda_boosting = AdaBoostClassifier(estimator=lda, n_estimators=50, random_state=42).fit(x_train, y_train).predict(x_test)"
   ]
  },
  {
   "cell_type": "code",
   "execution_count": 34,
   "id": "344e4916-f1c1-4766-9f84-3bdb1a990053",
   "metadata": {
    "tags": []
   },
   "outputs": [],
   "source": [
    "# ldq_boosting = AdaBoostClassifier(estimator=ldq, n_estimators=50, random_state=42).fit(x_train, y_train).predict(x_test)"
   ]
  },
  {
   "cell_type": "code",
   "execution_count": 35,
   "id": "2e884004-f3f8-44a3-9b15-6a993d558390",
   "metadata": {
    "tags": []
   },
   "outputs": [],
   "source": [
    "# # hasil prediksi ensembel\n",
    "# hasil = pd.DataFrame({\n",
    "#     # \"knn\": knn_boosting,\n",
    "#     \"svm\": svm_boosting,\n",
    "#     \"dt\": dt_boosting,\n",
    "#     \"gnb\": gnb_boosting,\n",
    "#     \"lr\": lr_boosting,\n",
    "#     # \"lda\": lda_boosting,\n",
    "#     # \"ldq\": lqa_boosting,\n",
    "#     \"Target\": y_test\n",
    "# })"
   ]
  },
  {
   "cell_type": "code",
   "execution_count": 36,
   "id": "9751b765-742e-4a38-b192-450c205cb46a",
   "metadata": {
    "tags": []
   },
   "outputs": [],
   "source": [
    "# print(\"Ensambel Boosting\")\n",
    "# for i in range(len(hasil.columns)-1):\n",
    "#     print(hasil.columns[i])\n",
    "#     print(np.round(accuracy_score(hasil[\"Target\"], hasil.iloc[:,i:i+1]), 4))\n",
    "#     print(np.round(precision_score(hasil[\"Target\"], hasil.iloc[:,i:i+1], average=\"macro\"), 4))\n",
    "#     print(np.round(recall_score(hasil[\"Target\"], hasil.iloc[:,i:i+1], average=\"macro\"), 4))\n",
    "#     print(np.round(f1_score(hasil[\"Target\"], hasil.iloc[:,i:i+1], average=\"macro\"), 4))\n",
    "#     print(\"------------------------- \\n\")"
   ]
  },
  {
   "cell_type": "code",
   "execution_count": null,
   "id": "64894d21-e3a3-4183-9d08-b4181f5fe610",
   "metadata": {},
   "outputs": [],
   "source": []
  }
 ],
 "metadata": {
  "kernelspec": {
   "display_name": "Python 3 (ipykernel)",
   "language": "python",
   "name": "python3"
  },
  "language_info": {
   "codemirror_mode": {
    "name": "ipython",
    "version": 3
   },
   "file_extension": ".py",
   "mimetype": "text/x-python",
   "name": "python",
   "nbconvert_exporter": "python",
   "pygments_lexer": "ipython3",
   "version": "3.11.5"
  }
 },
 "nbformat": 4,
 "nbformat_minor": 5
}
